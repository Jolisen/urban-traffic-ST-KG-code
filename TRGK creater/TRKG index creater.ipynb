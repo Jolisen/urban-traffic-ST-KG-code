{
 "cells": [
  {
   "cell_type": "code",
   "execution_count": 1,
   "id": "0e2c00b0-637d-47cd-8cb0-9c2c7722139c",
   "metadata": {},
   "outputs": [],
   "source": [
    "from py2neo import Node, Relationship, Graph, NodeMatcher, RelationshipMatcher, Subgraph\n",
    "import os\n",
    "import json\n",
    "\n",
    "import geopandas as gpd\n",
    "from shapely import geometry\n",
    "from shapely.wkt import loads\n",
    "import matplotlib.pyplot as plt\n",
    "import pandas as pd\n"
   ]
  },
  {
   "cell_type": "code",
   "execution_count": 2,
   "id": "35b81832-b593-4855-a339-8ffdabfacb12",
   "metadata": {},
   "outputs": [],
   "source": [
    "g = Graph('bolt://localhost:7687',auth=('neo4j','your password'), name = 'trkg')"
   ]
  },
  {
   "cell_type": "code",
   "execution_count": 3,
   "id": "556acc94-c04c-406a-8816-888b4e3330b7",
   "metadata": {
    "scrolled": true
   },
   "outputs": [
    {
     "data": {
      "text/plain": [
       "[{'id': 11,\n",
       "  'name': 'POI_name_index',\n",
       "  'state': 'ONLINE',\n",
       "  'populationPercent': 100.0,\n",
       "  'type': 'RANGE',\n",
       "  'entityType': 'NODE',\n",
       "  'labelsOrTypes': ['POI'],\n",
       "  'properties': ['name'],\n",
       "  'indexProvider': 'range-1.0',\n",
       "  'owningConstraint': None,\n",
       "  'lastRead': DateTime(2025, 4, 24, 14, 52, 17.176, tzinfo=<UTC>),\n",
       "  'readCount': 260},\n",
       " {'id': 1,\n",
       "  'name': 'index_343aff4e',\n",
       "  'state': 'ONLINE',\n",
       "  'populationPercent': 100.0,\n",
       "  'type': 'LOOKUP',\n",
       "  'entityType': 'NODE',\n",
       "  'labelsOrTypes': None,\n",
       "  'properties': None,\n",
       "  'indexProvider': 'token-lookup-1.0',\n",
       "  'owningConstraint': None,\n",
       "  'lastRead': DateTime(2025, 6, 5, 7, 15, 1.644, tzinfo=<UTC>),\n",
       "  'readCount': 1457},\n",
       " {'id': 8,\n",
       "  'name': 'index_628ccbb8',\n",
       "  'state': 'ONLINE',\n",
       "  'populationPercent': 100.0,\n",
       "  'type': 'RANGE',\n",
       "  'entityType': 'NODE',\n",
       "  'labelsOrTypes': ['trajectory_point'],\n",
       "  'properties': ['vehicle', 'batch', 'name'],\n",
       "  'indexProvider': 'range-1.0',\n",
       "  'owningConstraint': None,\n",
       "  'lastRead': DateTime(2025, 6, 5, 8, 4, 39.072, tzinfo=<UTC>),\n",
       "  'readCount': 554786730},\n",
       " {'id': 3,\n",
       "  'name': 'index_7945af8a',\n",
       "  'state': 'ONLINE',\n",
       "  'populationPercent': 100.0,\n",
       "  'type': 'RANGE',\n",
       "  'entityType': 'NODE',\n",
       "  'labelsOrTypes': ['honeycomb'],\n",
       "  'properties': ['name'],\n",
       "  'indexProvider': 'range-1.0',\n",
       "  'owningConstraint': None,\n",
       "  'lastRead': DateTime(2025, 6, 5, 5, 38, 47.693, tzinfo=<UTC>),\n",
       "  'readCount': 34320435},\n",
       " {'id': 5,\n",
       "  'name': 'index_a53bc387',\n",
       "  'state': 'ONLINE',\n",
       "  'populationPercent': 100.0,\n",
       "  'type': 'RANGE',\n",
       "  'entityType': 'NODE',\n",
       "  'labelsOrTypes': ['trajectory_point'],\n",
       "  'properties': ['vehicle'],\n",
       "  'indexProvider': 'range-1.0',\n",
       "  'owningConstraint': None,\n",
       "  'lastRead': DateTime(2025, 3, 17, 9, 44, 33.982, tzinfo=<UTC>),\n",
       "  'readCount': 24045},\n",
       " {'id': 6,\n",
       "  'name': 'index_c6389a69',\n",
       "  'state': 'ONLINE',\n",
       "  'populationPercent': 100.0,\n",
       "  'type': 'RANGE',\n",
       "  'entityType': 'NODE',\n",
       "  'labelsOrTypes': ['road'],\n",
       "  'properties': ['name'],\n",
       "  'indexProvider': 'range-1.0',\n",
       "  'owningConstraint': None,\n",
       "  'lastRead': DateTime(2025, 5, 20, 7, 28, 24.944, tzinfo=<UTC>),\n",
       "  'readCount': 71475357},\n",
       " {'id': 7,\n",
       "  'name': 'index_e595acfb',\n",
       "  'state': 'ONLINE',\n",
       "  'populationPercent': 100.0,\n",
       "  'type': 'RANGE',\n",
       "  'entityType': 'NODE',\n",
       "  'labelsOrTypes': ['trajectory_point'],\n",
       "  'properties': ['vehicle', 'batch'],\n",
       "  'indexProvider': 'range-1.0',\n",
       "  'owningConstraint': None,\n",
       "  'lastRead': DateTime(2025, 6, 5, 8, 4, 39.073, tzinfo=<UTC>),\n",
       "  'readCount': 374706822},\n",
       " {'id': 2,\n",
       "  'name': 'index_f7700477',\n",
       "  'state': 'ONLINE',\n",
       "  'populationPercent': 100.0,\n",
       "  'type': 'LOOKUP',\n",
       "  'entityType': 'RELATIONSHIP',\n",
       "  'labelsOrTypes': None,\n",
       "  'properties': None,\n",
       "  'indexProvider': 'token-lookup-1.0',\n",
       "  'owningConstraint': None,\n",
       "  'lastRead': DateTime(2025, 6, 1, 6, 27, 35.585, tzinfo=<UTC>),\n",
       "  'readCount': 81},\n",
       " {'id': 9,\n",
       "  'name': 'poi_fulltext_index',\n",
       "  'state': 'ONLINE',\n",
       "  'populationPercent': 100.0,\n",
       "  'type': 'FULLTEXT',\n",
       "  'entityType': 'NODE',\n",
       "  'labelsOrTypes': ['POI'],\n",
       "  'properties': ['poi_name', 'address'],\n",
       "  'indexProvider': 'fulltext-1.0',\n",
       "  'owningConstraint': None,\n",
       "  'lastRead': DateTime(2025, 4, 23, 5, 23, 35.404, tzinfo=<UTC>),\n",
       "  'readCount': 201},\n",
       " {'id': 10,\n",
       "  'name': 'trajectory_honeycomb_batch_index',\n",
       "  'state': 'ONLINE',\n",
       "  'populationPercent': 100.0,\n",
       "  'type': 'RANGE',\n",
       "  'entityType': 'NODE',\n",
       "  'labelsOrTypes': ['trajectory_point'],\n",
       "  'properties': ['honeycomb_name', 'batch'],\n",
       "  'indexProvider': 'range-1.0',\n",
       "  'owningConstraint': None,\n",
       "  'lastRead': DateTime(2025, 6, 5, 5, 49, 15.561, tzinfo=<UTC>),\n",
       "  'readCount': 2424596116}]"
      ]
     },
     "execution_count": 3,
     "metadata": {},
     "output_type": "execute_result"
    }
   ],
   "source": [
    "# 查询所有索引，找到复合索引的名称\n",
    "show_indexes_query = \"\"\"\n",
    "SHOW INDEXES\n",
    "\"\"\"\n",
    "\n",
    "# 执行查询并获取索引信息\n",
    "indexes = g.run(show_indexes_query).data()\n",
    "indexes"
   ]
  },
  {
   "cell_type": "code",
   "execution_count": 4,
   "id": "6a409229-188d-4646-b5b6-d323767f6487",
   "metadata": {},
   "outputs": [
    {
     "name": "stdout",
     "output_type": "stream",
     "text": [
      "索引已删除成功！\n"
     ]
    }
   ],
   "source": [
    "# 删除索引\n",
    "drop_index_query = \"\"\"\n",
    "DROP INDEX grid_congestion_level_index\n",
    "\"\"\"\n",
    "\n",
    "# 执行删除索引的查询\n",
    "g.run(drop_index_query)\n",
    "\n",
    "print(\"索引已删除成功！\")"
   ]
  },
  {
   "cell_type": "code",
   "execution_count": 4,
   "id": "51621ace-02e4-483a-9c4d-d8ecf88f7623",
   "metadata": {},
   "outputs": [
    {
     "name": "stdout",
     "output_type": "stream",
     "text": [
      "索引 (honeycomb, name) 已创建成功！\n"
     ]
    }
   ],
   "source": [
    "# 创建针对 honeycombname 属性的索引\n",
    "create_index_query = \"\"\"\n",
    "CREATE INDEX FOR (n:honeycomb) ON (n.name)\n",
    "\"\"\"\n",
    "\n",
    "# 执行创建索引的查询\n",
    "g.run(create_index_query)\n",
    "\n",
    "print(\"索引 (honeycomb, name) 已创建成功！\")"
   ]
  },
  {
   "cell_type": "code",
   "execution_count": 6,
   "id": "2df4dacb-1499-49e4-84ca-41dbfbab770a",
   "metadata": {},
   "outputs": [
    {
     "name": "stdout",
     "output_type": "stream",
     "text": [
      "索引 (trajectory_point, vehicle) 已创建成功！\n"
     ]
    }
   ],
   "source": [
    "# 创建针对 trajectory_pointvehicle 属性的索引\n",
    "create_index_query = \"\"\"\n",
    "CREATE INDEX FOR (n:trajectory_point) ON (n.vehicle)\n",
    "\"\"\"\n",
    "\n",
    "# 执行创建索引的查询\n",
    "g.run(create_index_query)\n",
    "\n",
    "print(\"索引 (trajectory_point, vehicle) 已创建成功！\")"
   ]
  },
  {
   "cell_type": "code",
   "execution_count": 7,
   "id": "c8a31cde-0cb0-41c1-a221-212fe7c0417a",
   "metadata": {},
   "outputs": [
    {
     "name": "stdout",
     "output_type": "stream",
     "text": [
      "索引 (road, name) 已创建成功！\n"
     ]
    }
   ],
   "source": [
    "# 创建针对 roadname 属性的索引\n",
    "create_index_query = \"\"\"\n",
    "CREATE INDEX FOR (n:road) ON (n.name)\n",
    "\"\"\"\n",
    "\n",
    "# 执行创建索引的查询\n",
    "g.run(create_index_query)\n",
    "\n",
    "print(\"索引 (road, name) 已创建成功！\")"
   ]
  },
  {
   "cell_type": "code",
   "execution_count": 14,
   "id": "81fb86f9-98eb-489f-97cd-7a13c2eefd4a",
   "metadata": {},
   "outputs": [
    {
     "name": "stdout",
     "output_type": "stream",
     "text": [
      "索引 (trajectory_point, honeycomb_name, batch) 已创建成功！\n"
     ]
    }
   ],
   "source": [
    "# 创建针对 trajectory_point 的索引\n",
    "create_index_query = \"\"\"\n",
    "CREATE INDEX trajectory_honeycomb_batch_index FOR (tp:trajectory_point) ON (tp.honeycomb_name, tp.batch);\n",
    "\n",
    "\"\"\"\n",
    "\n",
    "# 执行创建索引的查询\n",
    "g.run(create_index_query)\n",
    "\n",
    "print(\"索引 (trajectory_point, honeycomb_name, batch) 已创建成功！\")"
   ]
  },
  {
   "cell_type": "code",
   "execution_count": null,
   "id": "a267737f-896a-4f88-b94c-86afe4fc7cc8",
   "metadata": {},
   "outputs": [],
   "source": [
    "# 使用 Cypher 查询创建复合索引\n",
    "create_index_query = \"\"\"\n",
    "CREATE INDEX FOR (n:trajectory_point) ON (n.vehicle, n.batch)\n",
    "\"\"\"\n",
    "\n",
    "# 执行索引创建的查询\n",
    "g.run(create_index_query)\n",
    "\n",
    "print(\"复合索引 (vehicle, batch) 已创建成功！\")"
   ]
  },
  {
   "cell_type": "code",
   "execution_count": 5,
   "id": "2d41e7b5-e587-4b2c-8b65-f259cfe7ffc7",
   "metadata": {},
   "outputs": [
    {
     "name": "stdout",
     "output_type": "stream",
     "text": [
      "复合索引 (vehicle, batch, name) 已创建成功！\n"
     ]
    }
   ],
   "source": [
    "# 使用 Cypher 查询创建复合索引\n",
    "create_index_query = \"\"\"\n",
    "CREATE INDEX FOR (tp:trajectory_point) ON (tp.vehicle, tp.batch, tp.name)\n",
    "\"\"\"\n",
    "\n",
    "# 执行索引创建的查询\n",
    "g.run(create_index_query)\n",
    "\n",
    "print(\"复合索引 (vehicle, batch, name) 已创建成功！\")"
   ]
  },
  {
   "cell_type": "code",
   "execution_count": 32,
   "id": "c100eeed-2591-4c1d-ac00-541fa388fbc0",
   "metadata": {},
   "outputs": [
    {
     "name": "stdout",
     "output_type": "stream",
     "text": [
      "grid_congestion_level_index 已创建成功！\n"
     ]
    }
   ],
   "source": [
    "# 使用 Cypher 查询创建索引\n",
    "create_index_query = \"\"\"\n",
    "CREATE INDEX grid_congestion_level_index FOR (tp:trajectory_point) ON (tp.grid_congestion_level)\n",
    "\"\"\"\n",
    "\n",
    "# 执行索引创建的查询\n",
    "g.run(create_index_query)\n",
    "\n",
    "print(\"grid_congestion_level_index 已创建成功！\")"
   ]
  },
  {
   "cell_type": "code",
   "execution_count": 18,
   "id": "edebc5dc-2a4b-4d45-8b43-4083af9b2da7",
   "metadata": {},
   "outputs": [
    {
     "name": "stdout",
     "output_type": "stream",
     "text": [
      "全文索引 (POI) 已创建成功！\n"
     ]
    }
   ],
   "source": [
    "# 使用 Cypher 查询创建全文索引\n",
    "create_index_query = \"\"\"\n",
    "CREATE FULLTEXT INDEX poi_fulltext_index\n",
    "FOR (n:POI)\n",
    "ON EACH [n.poi_name, n.address];\n",
    "\"\"\"\n",
    "\n",
    "# 执行索引创建的查询\n",
    "g.run(create_index_query)\n",
    "\n",
    "print(\"全文索引 (POI) 已创建成功！\")"
   ]
  },
  {
   "cell_type": "code",
   "execution_count": 4,
   "id": "e7003df2-3c01-4040-816a-e62070febdf2",
   "metadata": {},
   "outputs": [
    {
     "name": "stdout",
     "output_type": "stream",
     "text": [
      "POI_name_index 已创建成功！\n"
     ]
    }
   ],
   "source": [
    "# 使用 Cypher 查询创建索引\n",
    "create_index_query = \"\"\"\n",
    "CREATE INDEX POI_name_index FOR (p:POI) ON (p.name)\n",
    "\"\"\"\n",
    "\n",
    "# 执行索引创建的查询\n",
    "g.run(create_index_query)\n",
    "\n",
    "print(\"POI_name_index 已创建成功！\")"
   ]
  },
  {
   "cell_type": "code",
   "execution_count": null,
   "id": "0b0d64d8-663e-4f07-b630-3cb535f4a334",
   "metadata": {},
   "outputs": [],
   "source": []
  }
 ],
 "metadata": {
  "kernelspec": {
   "display_name": "Python 3 (ipykernel)",
   "language": "python",
   "name": "python3"
  },
  "language_info": {
   "codemirror_mode": {
    "name": "ipython",
    "version": 3
   },
   "file_extension": ".py",
   "mimetype": "text/x-python",
   "name": "python",
   "nbconvert_exporter": "python",
   "pygments_lexer": "ipython3",
   "version": "3.8.19"
  }
 },
 "nbformat": 4,
 "nbformat_minor": 5
}
