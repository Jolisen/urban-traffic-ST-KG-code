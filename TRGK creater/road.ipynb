{
 "cells": [
  {
   "cell_type": "code",
   "execution_count": 8,
   "id": "9879cbbd-6ee1-4429-9de9-306a441214b3",
   "metadata": {},
   "outputs": [
    {
     "data": {
      "text/html": [
       "(No data)"
      ],
      "text/plain": [
       "(No data)"
      ]
     },
     "execution_count": 8,
     "metadata": {},
     "output_type": "execute_result"
    }
   ],
   "source": [
    "# 删除road实体和关系\n",
    "cypher = 'match(p:road) detach delete p'\n",
    "g.run(cypher)"
   ]
  },
  {
   "cell_type": "code",
   "execution_count": 9,
   "id": "de221350-ce7c-4a9e-b341-8be4ddc3af35",
   "metadata": {},
   "outputs": [
    {
     "data": {
      "text/html": [
       "(No data)"
      ],
      "text/plain": [
       "(No data)"
      ]
     },
     "execution_count": 9,
     "metadata": {},
     "output_type": "execute_result"
    }
   ],
   "source": [
    "# 删除所有 'touch' 关系\n",
    "g.run(\"MATCH ()-[r:touch]->() DELETE r\")"
   ]
  },
  {
   "cell_type": "code",
   "execution_count": 10,
   "id": "af9ef009-1274-4692-8732-a6018aca67a8",
   "metadata": {},
   "outputs": [
    {
     "data": {
      "text/html": [
       "<table><tr><th>total_road_nodes</th></tr><tr><td style=\"text-align:right\">0</td></tr></table>"
      ],
      "text/plain": [
       " total_road_nodes \n",
       "------------------\n",
       "                0 "
      ]
     },
     "execution_count": 10,
     "metadata": {},
     "output_type": "execute_result"
    }
   ],
   "source": [
    "cypher = 'MATCH (n:road) RETURN count(n) AS total_road_nodes'\n",
    "g.run(cypher)"
   ]
  },
  {
   "cell_type": "code",
   "execution_count": 11,
   "id": "a525dea6-c869-4f54-bf25-0124689a9b76",
   "metadata": {},
   "outputs": [
    {
     "data": {
      "text/html": [
       "<table><tr><th>touch_relation_count</th></tr><tr><td style=\"text-align:right\">0</td></tr></table>"
      ],
      "text/plain": [
       " touch_relation_count \n",
       "----------------------\n",
       "                    0 "
      ]
     },
     "execution_count": 11,
     "metadata": {},
     "output_type": "execute_result"
    }
   ],
   "source": [
    "cypher = 'MATCH ()-[r:touch]->() RETURN count(r) AS touch_relation_count'\n",
    "g.run(cypher)"
   ]
  },
  {
   "cell_type": "code",
   "execution_count": 1,
   "id": "2c406312-2196-4581-bb31-f47c4198b007",
   "metadata": {},
   "outputs": [],
   "source": [
    "global_var = 100000000000"
   ]
  },
  {
   "cell_type": "code",
   "execution_count": 2,
   "id": "0ff7bbcf-1484-4c57-9aea-21c65fbc1039",
   "metadata": {},
   "outputs": [
    {
     "name": "stderr",
     "output_type": "stream",
     "text": [
      "PROJ: proj_create_from_database: Cannot find proj.db\n"
     ]
    }
   ],
   "source": [
    "import geopandas as gpd\n",
    "from shapely import geometry\n",
    "import matplotlib.pyplot as plt\n",
    "import pandas as pd\n",
    "\n",
    "road = r\"F:/paper2/result/split_result.shp\"\n",
    "road = gpd.read_file(road)\n",
    "# honey = r\"F:\\paper2\\result\\dz_honeycomb_125.shp\"\n",
    "# honey = gpd.read_file(honey)\n",
    "\n",
    "# fig, ax = plt.subplots(figsize=(12, 8))\n",
    "# ax = road.geometry.plot(ax=ax,fc='none',ec='k')\n",
    "# ax = honey.geometry.plot(ax=ax)"
   ]
  },
  {
   "cell_type": "code",
   "execution_count": 3,
   "id": "5f8dedd3-16c1-4b19-b68f-3a8101031ebe",
   "metadata": {},
   "outputs": [],
   "source": [
    "#显示所有列\n",
    "pd.set_option('display.max_columns', None)\n",
    "pd.set_option('max_colwidth',200)"
   ]
  },
  {
   "cell_type": "code",
   "execution_count": 4,
   "id": "f5700e8c-e04e-44b0-b38f-695f13b06f52",
   "metadata": {},
   "outputs": [
    {
     "name": "stdout",
     "output_type": "stream",
     "text": [
      "PROJCS[\"CGCS2000_3-degree_Gauss-Kruger_CM_120E\",GEOGCS[\"GCS_China_Geodetic_Coordinate_System_2000\",DATUM[\"D_China_2000\",SPHEROID[\"CGCS2000\",6378137,298.257222101]],PRIMEM[\"Greenwich\",0],UNIT[\"Degree\",0.0174532925199433]],PROJECTION[\"Transverse_Mercator\"],PARAMETER[\"latitude_of_origin\",0],PARAMETER[\"central_meridian\",120],PARAMETER[\"scale_factor\",1],PARAMETER[\"false_easting\",500000],PARAMETER[\"false_northing\",0],UNIT[\"Meter\",1],AXIS[\"Easting\",EAST],AXIS[\"Northing\",NORTH]]\n"
     ]
    }
   ],
   "source": [
    "print(road.crs)"
   ]
  },
  {
   "cell_type": "code",
   "execution_count": 5,
   "id": "071fea21-b4dc-40ff-8a24-b42452bd35f7",
   "metadata": {},
   "outputs": [],
   "source": [
    "from py2neo import Node, Relationship, Graph, NodeMatcher, RelationshipMatcher, Subgraph\n",
    "import os\n",
    "import json"
   ]
  },
  {
   "cell_type": "code",
   "execution_count": 6,
   "id": "d5caecb8-0db1-483c-8069-3dd999d70472",
   "metadata": {},
   "outputs": [],
   "source": [
    "g = Graph('bolt://localhost:7687',auth=('neo4j','your password'), name = 'trkg')"
   ]
  },
  {
   "cell_type": "code",
   "execution_count": 7,
   "id": "61f0e12b-b61a-402b-8f39-1901d29693fb",
   "metadata": {
    "scrolled": true
   },
   "outputs": [
    {
     "data": {
      "text/html": [
       "<div>\n",
       "<style scoped>\n",
       "    .dataframe tbody tr th:only-of-type {\n",
       "        vertical-align: middle;\n",
       "    }\n",
       "\n",
       "    .dataframe tbody tr th {\n",
       "        vertical-align: top;\n",
       "    }\n",
       "\n",
       "    .dataframe thead th {\n",
       "        text-align: right;\n",
       "    }\n",
       "</style>\n",
       "<table border=\"1\" class=\"dataframe\">\n",
       "  <thead>\n",
       "    <tr style=\"text-align: right;\">\n",
       "      <th></th>\n",
       "      <th>pre_code</th>\n",
       "      <th>fclass</th>\n",
       "      <th>name</th>\n",
       "      <th>layer</th>\n",
       "      <th>oneway</th>\n",
       "      <th>bridge</th>\n",
       "      <th>tunnel</th>\n",
       "      <th>fclass中</th>\n",
       "      <th>描述</th>\n",
       "      <th>分类</th>\n",
       "      <th>index</th>\n",
       "      <th>distance</th>\n",
       "      <th>geometry</th>\n",
       "    </tr>\n",
       "  </thead>\n",
       "  <tbody>\n",
       "    <tr>\n",
       "      <th>0</th>\n",
       "      <td>38377</td>\n",
       "      <td>primary</td>\n",
       "      <td>None</td>\n",
       "      <td>0.0</td>\n",
       "      <td>F</td>\n",
       "      <td>F</td>\n",
       "      <td>F</td>\n",
       "      <td>主要道路</td>\n",
       "      <td>城市主要车行道路</td>\n",
       "      <td>城市主干路</td>\n",
       "      <td>0</td>\n",
       "      <td>216.622015</td>\n",
       "      <td>LINESTRING (611188.945 3408186.854, 611405.451 3408179.776)</td>\n",
       "    </tr>\n",
       "    <tr>\n",
       "      <th>1</th>\n",
       "      <td>8080</td>\n",
       "      <td>primary</td>\n",
       "      <td>None</td>\n",
       "      <td>0.0</td>\n",
       "      <td>F</td>\n",
       "      <td>F</td>\n",
       "      <td>F</td>\n",
       "      <td>主要道路</td>\n",
       "      <td>城市主要车行道路</td>\n",
       "      <td>城市主干路</td>\n",
       "      <td>1</td>\n",
       "      <td>216.625870</td>\n",
       "      <td>LINESTRING (611405.451 3408191.808, 611188.945 3408199.003)</td>\n",
       "    </tr>\n",
       "    <tr>\n",
       "      <th>2</th>\n",
       "      <td>38377</td>\n",
       "      <td>primary</td>\n",
       "      <td>None</td>\n",
       "      <td>0.0</td>\n",
       "      <td>F</td>\n",
       "      <td>F</td>\n",
       "      <td>F</td>\n",
       "      <td>主要道路</td>\n",
       "      <td>城市主要车行道路</td>\n",
       "      <td>城市主干路</td>\n",
       "      <td>2</td>\n",
       "      <td>216.622015</td>\n",
       "      <td>LINESTRING (610972.438 3408193.932, 611188.945 3408186.854)</td>\n",
       "    </tr>\n",
       "    <tr>\n",
       "      <th>3</th>\n",
       "      <td>8080</td>\n",
       "      <td>primary</td>\n",
       "      <td>None</td>\n",
       "      <td>0.0</td>\n",
       "      <td>F</td>\n",
       "      <td>F</td>\n",
       "      <td>F</td>\n",
       "      <td>主要道路</td>\n",
       "      <td>城市主要车行道路</td>\n",
       "      <td>城市主干路</td>\n",
       "      <td>3</td>\n",
       "      <td>216.625870</td>\n",
       "      <td>LINESTRING (611188.945 3408199.003, 610972.438 3408206.198)</td>\n",
       "    </tr>\n",
       "    <tr>\n",
       "      <th>4</th>\n",
       "      <td>38377</td>\n",
       "      <td>primary</td>\n",
       "      <td>None</td>\n",
       "      <td>0.0</td>\n",
       "      <td>F</td>\n",
       "      <td>F</td>\n",
       "      <td>F</td>\n",
       "      <td>主要道路</td>\n",
       "      <td>城市主要车行道路</td>\n",
       "      <td>城市主干路</td>\n",
       "      <td>4</td>\n",
       "      <td>216.622015</td>\n",
       "      <td>LINESTRING (609889.906 3408229.322, 610106.413 3408222.244)</td>\n",
       "    </tr>\n",
       "    <tr>\n",
       "      <th>...</th>\n",
       "      <td>...</td>\n",
       "      <td>...</td>\n",
       "      <td>...</td>\n",
       "      <td>...</td>\n",
       "      <td>...</td>\n",
       "      <td>...</td>\n",
       "      <td>...</td>\n",
       "      <td>...</td>\n",
       "      <td>...</td>\n",
       "      <td>...</td>\n",
       "      <td>...</td>\n",
       "      <td>...</td>\n",
       "      <td>...</td>\n",
       "    </tr>\n",
       "    <tr>\n",
       "      <th>110541</th>\n",
       "      <td>29747</td>\n",
       "      <td>secondary</td>\n",
       "      <td>None</td>\n",
       "      <td>0.0</td>\n",
       "      <td>B</td>\n",
       "      <td>F</td>\n",
       "      <td>F</td>\n",
       "      <td>次要道路</td>\n",
       "      <td>城市次要车行道路，机场外围车行道路</td>\n",
       "      <td>城市主干路</td>\n",
       "      <td>110541</td>\n",
       "      <td>217.761116</td>\n",
       "      <td>LINESTRING (621797.756 3524764.073, 622014.262 3524740.730)</td>\n",
       "    </tr>\n",
       "    <tr>\n",
       "      <th>110542</th>\n",
       "      <td>29747</td>\n",
       "      <td>secondary</td>\n",
       "      <td>None</td>\n",
       "      <td>0.0</td>\n",
       "      <td>B</td>\n",
       "      <td>F</td>\n",
       "      <td>F</td>\n",
       "      <td>次要道路</td>\n",
       "      <td>城市次要车行道路，机场外围车行道路</td>\n",
       "      <td>城市主干路</td>\n",
       "      <td>110542</td>\n",
       "      <td>217.867493</td>\n",
       "      <td>LINESTRING (621364.743 3524812.515, 621581.249 3524788.199)</td>\n",
       "    </tr>\n",
       "    <tr>\n",
       "      <th>110543</th>\n",
       "      <td>29747</td>\n",
       "      <td>secondary</td>\n",
       "      <td>None</td>\n",
       "      <td>0.0</td>\n",
       "      <td>B</td>\n",
       "      <td>F</td>\n",
       "      <td>F</td>\n",
       "      <td>次要道路</td>\n",
       "      <td>城市次要车行道路，机场外围车行道路</td>\n",
       "      <td>城市主干路</td>\n",
       "      <td>110543</td>\n",
       "      <td>217.846776</td>\n",
       "      <td>LINESTRING (621581.249 3524788.199, 621755.590 3524768.619, 621797.756 3524764.073)</td>\n",
       "    </tr>\n",
       "    <tr>\n",
       "      <th>110544</th>\n",
       "      <td>29747</td>\n",
       "      <td>secondary</td>\n",
       "      <td>None</td>\n",
       "      <td>0.0</td>\n",
       "      <td>B</td>\n",
       "      <td>F</td>\n",
       "      <td>F</td>\n",
       "      <td>次要道路</td>\n",
       "      <td>城市次要车行道路，机场外围车行道路</td>\n",
       "      <td>城市主干路</td>\n",
       "      <td>110544</td>\n",
       "      <td>198.842111</td>\n",
       "      <td>LINESTRING (622014.262 3524740.730, 622211.958 3524719.415)</td>\n",
       "    </tr>\n",
       "    <tr>\n",
       "      <th>110545</th>\n",
       "      <td>29747</td>\n",
       "      <td>secondary</td>\n",
       "      <td>None</td>\n",
       "      <td>0.0</td>\n",
       "      <td>B</td>\n",
       "      <td>F</td>\n",
       "      <td>F</td>\n",
       "      <td>次要道路</td>\n",
       "      <td>城市次要车行道路，机场外围车行道路</td>\n",
       "      <td>城市主干路</td>\n",
       "      <td>110545</td>\n",
       "      <td>35.208790</td>\n",
       "      <td>LINESTRING (622531.897 3524681.418, 622545.074 3524678.845, 622566.312 3524674.001)</td>\n",
       "    </tr>\n",
       "  </tbody>\n",
       "</table>\n",
       "<p>110546 rows × 13 columns</p>\n",
       "</div>"
      ],
      "text/plain": [
       "       pre_code     fclass  name  layer oneway bridge tunnel fclass中  \\\n",
       "0         38377    primary  None    0.0      F      F      F    主要道路   \n",
       "1          8080    primary  None    0.0      F      F      F    主要道路   \n",
       "2         38377    primary  None    0.0      F      F      F    主要道路   \n",
       "3          8080    primary  None    0.0      F      F      F    主要道路   \n",
       "4         38377    primary  None    0.0      F      F      F    主要道路   \n",
       "...         ...        ...   ...    ...    ...    ...    ...     ...   \n",
       "110541    29747  secondary  None    0.0      B      F      F    次要道路   \n",
       "110542    29747  secondary  None    0.0      B      F      F    次要道路   \n",
       "110543    29747  secondary  None    0.0      B      F      F    次要道路   \n",
       "110544    29747  secondary  None    0.0      B      F      F    次要道路   \n",
       "110545    29747  secondary  None    0.0      B      F      F    次要道路   \n",
       "\n",
       "                       描述     分类   index    distance  \\\n",
       "0                城市主要车行道路  城市主干路       0  216.622015   \n",
       "1                城市主要车行道路  城市主干路       1  216.625870   \n",
       "2                城市主要车行道路  城市主干路       2  216.622015   \n",
       "3                城市主要车行道路  城市主干路       3  216.625870   \n",
       "4                城市主要车行道路  城市主干路       4  216.622015   \n",
       "...                   ...    ...     ...         ...   \n",
       "110541  城市次要车行道路，机场外围车行道路  城市主干路  110541  217.761116   \n",
       "110542  城市次要车行道路，机场外围车行道路  城市主干路  110542  217.867493   \n",
       "110543  城市次要车行道路，机场外围车行道路  城市主干路  110543  217.846776   \n",
       "110544  城市次要车行道路，机场外围车行道路  城市主干路  110544  198.842111   \n",
       "110545  城市次要车行道路，机场外围车行道路  城市主干路  110545   35.208790   \n",
       "\n",
       "                                                                                   geometry  \n",
       "0                               LINESTRING (611188.945 3408186.854, 611405.451 3408179.776)  \n",
       "1                               LINESTRING (611405.451 3408191.808, 611188.945 3408199.003)  \n",
       "2                               LINESTRING (610972.438 3408193.932, 611188.945 3408186.854)  \n",
       "3                               LINESTRING (611188.945 3408199.003, 610972.438 3408206.198)  \n",
       "4                               LINESTRING (609889.906 3408229.322, 610106.413 3408222.244)  \n",
       "...                                                                                     ...  \n",
       "110541                          LINESTRING (621797.756 3524764.073, 622014.262 3524740.730)  \n",
       "110542                          LINESTRING (621364.743 3524812.515, 621581.249 3524788.199)  \n",
       "110543  LINESTRING (621581.249 3524788.199, 621755.590 3524768.619, 621797.756 3524764.073)  \n",
       "110544                          LINESTRING (622014.262 3524740.730, 622211.958 3524719.415)  \n",
       "110545  LINESTRING (622531.897 3524681.418, 622545.074 3524678.845, 622566.312 3524674.001)  \n",
       "\n",
       "[110546 rows x 13 columns]"
      ]
     },
     "execution_count": 7,
     "metadata": {},
     "output_type": "execute_result"
    }
   ],
   "source": [
    "road"
   ]
  },
  {
   "cell_type": "code",
   "execution_count": 12,
   "id": "bda88480-cbf1-4dae-bd86-663a37b7b644",
   "metadata": {},
   "outputs": [],
   "source": [
    "#创建路网实体\n",
    "road_ls = []\n",
    "for i in range(len(road)):\n",
    "    if i==global_var:\n",
    "        break\n",
    "    # print('road:', i)\n",
    "    polyline = road.iloc[i]\n",
    "    \n",
    "    node = Node('road', name=int(polyline['index']), road_pcode=int(polyline['pre_code']), fclass=polyline['fclass'], cclass=polyline['分类'],\n",
    "                roadname=polyline['name'], layer=int(polyline['layer']), bridge=polyline['bridge'], tunnel=polyline['tunnel'],\n",
    "                discribe=polyline['描述'], distance=float(polyline['distance']), oneway=polyline['oneway'],\n",
    "                geometry=str(polyline['geometry']))\n",
    "    road_ls.append(node)\n",
    "\n",
    "subgraph = Subgraph(nodes=road_ls)\n",
    "tx = g.begin() \n",
    "tx.create(subgraph)\n",
    "g.commit(tx)"
   ]
  },
  {
   "cell_type": "code",
   "execution_count": 13,
   "id": "1612f3ac-6ef2-474d-b4b4-7cd9a0e5cada",
   "metadata": {
    "scrolled": true
   },
   "outputs": [],
   "source": [
    "# roadbuffer = r\"F:\\paper2\\result\\roadbuffer_125.shp\"\n",
    "# roadbuffer = gpd.read_file(roadbuffer)\n",
    "# roadbuffer"
   ]
  },
  {
   "cell_type": "code",
   "execution_count": 14,
   "id": "2032ecff-a0dd-4727-a4cd-2bd8ec060c4b",
   "metadata": {},
   "outputs": [],
   "source": [
    "node_matcher = NodeMatcher(g)\n",
    "relation_matcher = RelationshipMatcher(g)"
   ]
  },
  {
   "cell_type": "code",
   "execution_count": 15,
   "id": "092e7abd-61b8-4e90-a835-3ba03f8e912b",
   "metadata": {},
   "outputs": [
    {
     "data": {
      "application/vnd.jupyter.widget-view+json": {
       "model_id": "c76c2d0fe6ff4678811b53fdbbc5bd4e",
       "version_major": 2,
       "version_minor": 0
      },
      "text/plain": [
       "  0%|          | 0/110546 [00:00<?, ?it/s]"
      ]
     },
     "metadata": {},
     "output_type": "display_data"
    }
   ],
   "source": [
    "from tqdm.notebook import tqdm\n",
    "\n",
    "# 1. 建立R树索引\n",
    "spatial_index = road.sindex\n",
    "\n",
    "# 2. 逐个处理道路节点\n",
    "for i in tqdm(range(len(road)), total=len(road)):\n",
    "    if i >= global_var:\n",
    "        break\n",
    "    \n",
    "    polygon = road.loc[i, 'geometry']\n",
    "\n",
    "    # 通过R树进行简单包含查询\n",
    "    possible_matches_index = list(spatial_index.intersection(polygon.bounds))\n",
    "    possible_matches = road.iloc[possible_matches_index]\n",
    "\n",
    "    # 将简单查询结果进行匹配，得到精确查询结果\n",
    "    precise_matches_intersects = possible_matches[possible_matches.touches(polygon)]\n",
    "    \n",
    "    k = precise_matches_intersects['index'].tolist()\n",
    "\n",
    "    # 匹配当前处理的主道路节点\n",
    "    main_road = node_matcher.match('road', name=i).first()\n",
    "\n",
    "    # 处理与当前道路相邻的道路节点\n",
    "    for j in k:\n",
    "        if j >= global_var:\n",
    "            break\n",
    "\n",
    "        sub_road = node_matcher.match('road', name=j).first()\n",
    "\n",
    "        # 确保关系方向一致：从 name 较小的节点指向 name 较大的节点\n",
    "        if main_road['name'] < sub_road['name']:\n",
    "            \n",
    "            # 使用Cypher的MERGE语句保证关系的唯一性\n",
    "            query = \"\"\"\n",
    "            MATCH (a:road {name: $main}), (b:road {name: $sub})\n",
    "            MERGE (a)-[r:touch]-(b)\n",
    "            RETURN r\n",
    "            \"\"\"\n",
    "            g.run(query, main=main_road['name'], sub=sub_road['name'])\n",
    "\n",
    "# 此时不再需要批量提交关系，Cypher中的MERGE操作已经处理了唯一性问题\n"
   ]
  },
  {
   "cell_type": "code",
   "execution_count": null,
   "id": "c443b200-cd67-43d2-b52b-97ce27edd06c",
   "metadata": {},
   "outputs": [],
   "source": [
    "#道路与道路关系\n",
    "from concurrent.futures import ThreadPoolExecutor\n",
    "from tqdm.notebook import tqdm\n",
    "\n",
    "def process_road(i):\n",
    "    if i >= global_var:\n",
    "        return []\n",
    "    # print('road:', i)\n",
    "    polygon = road.loc[i, 'geometry']\n",
    "\n",
    "    # 通过R树进行简单包含查询\n",
    "    possible_matches_index = list(spatial_index.intersection(polygon.bounds))\n",
    "    possible_matches = road.iloc[possible_matches_index]\n",
    "\n",
    "    # 将简单查询结果进行匹配，得到精确查询结果\n",
    "    precise_matches_intersects = possible_matches[possible_matches.touches(polygon)]\n",
    "    # print('precise_matches_intersects\\n',precise_matches_intersects)\n",
    "    \n",
    "    # 排除自身，避免自相交\n",
    "    # intersect_gdf = precise_matches_intersects[precise_matches_intersects['index'] != i]\n",
    "    # print('intersect_gdf\\n',intersect_gdf)\n",
    "    \n",
    "    k = precise_matches_intersects['index'].tolist()\n",
    "\n",
    "    # 将拓扑关系添加进知识图谱\n",
    "    main_road = node_matcher.match('road', name=i).first()\n",
    "    \n",
    "    relations = []\n",
    "    for j in k:\n",
    "        if j >= global_var:\n",
    "            continue\n",
    "\n",
    "        sub_road = node_matcher.match('road', name=j).first()\n",
    "\n",
    "        # 确保关系方向一致：只从 name 较小的节点指向 name 较大的节点\n",
    "        if main_road['name'] < sub_road['name']:\n",
    "\n",
    "            # 使用Cypher查询检查两个节点之间是否存在\"touch\" 关系\n",
    "            query = \"\"\"\n",
    "            MATCH (a:road {name: $main})-[r:touch]-(b:road {name: $sub})\n",
    "            RETURN count(r) > 0 as relation_exists\n",
    "            \"\"\"\n",
    "            relation_exists = g.run(query, main=main_road['name'], sub=sub_road['name']).evaluate()\n",
    "\n",
    "            if not relation_exists:\n",
    "            \n",
    "                # 创建关系\n",
    "                relation = Relationship(main_road, \"touch\", sub_road)\n",
    "                relations.append(relation)\n",
    "\n",
    "    return relations\n",
    "\n",
    "relation_ls = []\n",
    "spatial_index = road.sindex  # 建立R树索引\n",
    "\n",
    "# 使用ThreadPoolExecutor进行并行处理，并加上进度条\n",
    "with ThreadPoolExecutor(max_workers=120) as executor:\n",
    "    for relations in tqdm(executor.map(process_road, range(len(road))), total=len(road)):\n",
    "        relation_ls.extend(relations)\n",
    "\n",
    "# 批量提交所有关系到数据库\n",
    "subgraph = Subgraph(relationships=relation_ls)\n",
    "tx = g.begin()\n",
    "tx.create(subgraph)\n",
    "g.commit(tx)\n",
    "relation_ls.clear()\n"
   ]
  },
  {
   "cell_type": "code",
   "execution_count": 15,
   "id": "60062f8a-5b64-40f3-8ccf-781bf67ced13",
   "metadata": {},
   "outputs": [],
   "source": [
    "def print_touch_relation(main_road_name, sub_road_name, g):\n",
    "    # 使用Cypher查询两个节点之间的 touch 关系\n",
    "    query = \"\"\"\n",
    "    MATCH (a:road {name: $main})-[r:touch]-(b:road {name: $sub})\n",
    "    RETURN r\n",
    "    \"\"\"\n",
    "    \n",
    "    # 执行查询并获取结果\n",
    "    result = g.run(query, main=main_road_name, sub=sub_road_name).data()\n",
    "\n",
    "    # 打印关系\n",
    "    if result:\n",
    "        for record in result:\n",
    "            relation = record['r']\n",
    "            print(\"Relationship found: \", relation)\n",
    "    else:\n",
    "        print(f\"No touch relationship found between road {main_road_name} and road {sub_road_name}\")"
   ]
  },
  {
   "cell_type": "code",
   "execution_count": 16,
   "id": "ff7f0ad5-b915-4920-a944-904e55afede7",
   "metadata": {},
   "outputs": [
    {
     "name": "stdout",
     "output_type": "stream",
     "text": [
      "Relationship found:  (1)-[:touch {}]->(3)\n"
     ]
    }
   ],
   "source": [
    "\n",
    "# 打印关系\n",
    "print_touch_relation(1, 3, g)  # 例如，打印 road 1 和 road 2 之间的 touch 关系\n"
   ]
  },
  {
   "cell_type": "code",
   "execution_count": null,
   "id": "7cb34eca-3800-44f3-b675-db32490df26c",
   "metadata": {},
   "outputs": [],
   "source": []
  }
 ],
 "metadata": {
  "kernelspec": {
   "display_name": "Python 3 (ipykernel)",
   "language": "python",
   "name": "python3"
  },
  "language_info": {
   "codemirror_mode": {
    "name": "ipython",
    "version": 3
   },
   "file_extension": ".py",
   "mimetype": "text/x-python",
   "name": "python",
   "nbconvert_exporter": "python",
   "pygments_lexer": "ipython3",
   "version": "3.8.19"
  }
 },
 "nbformat": 4,
 "nbformat_minor": 5
}
