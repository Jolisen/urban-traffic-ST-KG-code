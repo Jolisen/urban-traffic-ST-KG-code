{
 "cells": [
  {
   "cell_type": "code",
   "execution_count": 20,
   "id": "3d9db28b-429b-4903-b30c-46247fa45e67",
   "metadata": {
    "scrolled": true
   },
   "outputs": [],
   "source": [
    "# 定义批量删除的查询\n",
    "batch_size = 500000\n",
    "while True:\n",
    "    query = f\"\"\"\n",
    "    MATCH (p:trajectory_point)\n",
    "    WITH p LIMIT {batch_size}\n",
    "    DETACH DELETE p\n",
    "    RETURN COUNT(p) AS deleted_count\n",
    "    \"\"\"\n",
    "    \n",
    "    # 执行批量删除操作\n",
    "    result = g.run(query).data()\n",
    "    \n",
    "    # 如果没有节点被删除，结束循环\n",
    "    if result[0]['deleted_count'] == 0:\n",
    "        break\n",
    "\n",
    "    print(f\"Deleted {result[0]['deleted_count']} nodes in this batch.\")"
   ]
  },
  {
   "cell_type": "code",
   "execution_count": 21,
   "id": "bbc549a9-2b04-480a-9249-7e1eb8861551",
   "metadata": {},
   "outputs": [
    {
     "data": {
      "text/html": [
       "(No data)"
      ],
      "text/plain": [
       "(No data)"
      ]
     },
     "execution_count": 21,
     "metadata": {},
     "output_type": "execute_result"
    }
   ],
   "source": [
    "# 删除所有 'next' 关系\n",
    "g.run(\"MATCH ()-[r:next]->() DELETE r\")"
   ]
  },
  {
   "cell_type": "code",
   "execution_count": 22,
   "id": "de09e1a1-2ed1-4da8-ac31-641b1800c6a0",
   "metadata": {},
   "outputs": [
    {
     "data": {
      "text/html": [
       "<table><tr><th>total_trajectory_point_nodes</th></tr><tr><td style=\"text-align:right\">0</td></tr></table>"
      ],
      "text/plain": [
       " total_trajectory_point_nodes \n",
       "------------------------------\n",
       "                            0 "
      ]
     },
     "execution_count": 22,
     "metadata": {},
     "output_type": "execute_result"
    }
   ],
   "source": [
    "cypher = 'MATCH (n:trajectory_point) RETURN count(n) AS total_trajectory_point_nodes'\n",
    "g.run(cypher)"
   ]
  },
  {
   "cell_type": "code",
   "execution_count": 47,
   "id": "ee8193aa-6cc8-48f6-bd35-e312ff801291",
   "metadata": {},
   "outputs": [
    {
     "name": "stdout",
     "output_type": "stream",
     "text": [
      "selected_files第一个元素: F:\\paper2\\出租车原始数据\\part2\\12202.csv\n",
      "selected_files最后一个元素: F:\\paper2\\出租车原始数据\\part2\\13831.csv\n"
     ]
    }
   ],
   "source": [
    "selected_files = dir_xls[4000:]\n",
    "print(\"selected_files第一个元素:\", selected_files[0])\n",
    "print(\"selected_files最后一个元素:\", selected_files[-1])"
   ]
  },
  {
   "cell_type": "code",
   "execution_count": 48,
   "id": "f74c82c4-af0a-4386-a965-055d341f54ec",
   "metadata": {},
   "outputs": [
    {
     "name": "stdout",
     "output_type": "stream",
     "text": [
      "dir_xls第一个元素: F:\\paper2\\出租车原始数据\\part2\\12202.csv\n",
      "dir_xls最后一个元素: F:\\paper2\\出租车原始数据\\part2\\13831.csv\n"
     ]
    }
   ],
   "source": [
    "selected_files = dir_xls[4000:]\n",
    "dir_xls = selected_files\n",
    "print(\"dir_xls第一个元素:\", dir_xls[0])\n",
    "print(\"dir_xls最后一个元素:\", dir_xls[-1])"
   ]
  },
  {
   "cell_type": "code",
   "execution_count": 2,
   "id": "b4643df1-516f-4f21-987b-476142b86f73",
   "metadata": {},
   "outputs": [],
   "source": [
    "import os\n",
    "os.environ['PROJ_LIB'] = r'D:\\Anaconda\\envs\\TrKG\\Library\\share\\proj'\n",
    "os.environ['GDAL_DATA'] = r'CD:\\Anaconda\\envs\\TrKG\\Library\\share'\n",
    "import pandas as pd\n",
    "import geopandas as gpd\n",
    "from functools import reduce\n",
    "import numpy as np\n",
    "\n",
    "def get_file(folder_path):  #获取同一文件夹下所有的文件路径\n",
    "    dir_file = os.listdir(folder_path)\n",
    "    for path in dir_file:\n",
    "        if path[-3:] == 'csv' or path[-4:] == 'xlsx' or path[-3:] == 'xls':\n",
    "            whole_path = (folder_path + \"\\\\\" + '{}').format(path)\n",
    "            dir_xls.append(whole_path)\n",
    "    return dir_xls\n",
    "def get_name(folder_path):  #获取同一文件夹下所有的文件路径\n",
    "    dir_file = os.listdir(folder_path)\n",
    "    for path in dir_file:\n",
    "        if path[-3:] == 'csv' or path[-4:] == 'xlsx' or path[-3:] == 'xls':\n",
    "            file_name_without_extension = os.path.splitext(path)[0]  # 获取文件名的主干，不包含扩展名\n",
    "            folder_name.append(file_name_without_extension)\n",
    "    return folder_name"
   ]
  },
  {
   "cell_type": "code",
   "execution_count": null,
   "id": "ac45e6ad-820e-4d09-bc59-0da2123e4a02",
   "metadata": {},
   "outputs": [],
   "source": [
    "gdf_honeycomb = r\"F:\\paper2\\result\\dz_honeycomb_125.shp\"\n",
    "gdf_honeycomb = gpd.read_file(gdf_honeycomb)\n",
    "print(gdf_honeycomb.crs)\n",
    "# 读取道路网络的 Shapefile\n",
    "road = r\"E:\\paper2\\S-上海-SH\\01-SHP\\01-市域数据（❤❤❤）\\2023（❤❤❤）\\上海市_主干道.shp\"\n",
    "road_gdf = gpd.read_file(road)\n",
    "road_gdf = road_gdf.to_crs(gdf_honeycomb.crs)\n",
    "print(road_gdf.crs)"
   ]
  },
  {
   "cell_type": "code",
   "execution_count": null,
   "id": "9a92da64-c36a-4800-9d26-2f71e6d58f4d",
   "metadata": {},
   "outputs": [],
   "source": [
    "folder_path = r'F:\\paper2\\出租车原始数据'\n",
    "file_list = os.listdir(folder_path)\n",
    "full_paths = [os.path.join(folder_path, f) for f in file_list]\n",
    "print(full_paths)"
   ]
  },
  {
   "cell_type": "code",
   "execution_count": 4,
   "id": "5833502b-6fe2-4a15-95a9-b81296fa9281",
   "metadata": {},
   "outputs": [
    {
     "name": "stdout",
     "output_type": "stream",
     "text": [
      "datetime    datetime64[ns]\n",
      "dtype: object\n"
     ]
    },
    {
     "data": {
      "text/html": [
       "<div>\n",
       "<style scoped>\n",
       "    .dataframe tbody tr th:only-of-type {\n",
       "        vertical-align: middle;\n",
       "    }\n",
       "\n",
       "    .dataframe tbody tr th {\n",
       "        vertical-align: top;\n",
       "    }\n",
       "\n",
       "    .dataframe thead th {\n",
       "        text-align: right;\n",
       "    }\n",
       "</style>\n",
       "<table border=\"1\" class=\"dataframe\">\n",
       "  <thead>\n",
       "    <tr style=\"text-align: right;\">\n",
       "      <th></th>\n",
       "      <th>datetime</th>\n",
       "    </tr>\n",
       "  </thead>\n",
       "  <tbody>\n",
       "    <tr>\n",
       "      <th>0</th>\n",
       "      <td>2015-04-01 00:00:00.000000</td>\n",
       "    </tr>\n",
       "    <tr>\n",
       "      <th>1</th>\n",
       "      <td>2015-04-01 00:05:00.000001</td>\n",
       "    </tr>\n",
       "    <tr>\n",
       "      <th>2</th>\n",
       "      <td>2015-04-01 00:10:00.000001</td>\n",
       "    </tr>\n",
       "    <tr>\n",
       "      <th>3</th>\n",
       "      <td>2015-04-01 00:15:00.000001</td>\n",
       "    </tr>\n",
       "    <tr>\n",
       "      <th>4</th>\n",
       "      <td>2015-04-01 00:20:00.000001</td>\n",
       "    </tr>\n",
       "    <tr>\n",
       "      <th>...</th>\n",
       "      <td>...</td>\n",
       "    </tr>\n",
       "    <tr>\n",
       "      <th>8636</th>\n",
       "      <td>2015-04-30 23:40:00.000001</td>\n",
       "    </tr>\n",
       "    <tr>\n",
       "      <th>8637</th>\n",
       "      <td>2015-04-30 23:45:00.000001</td>\n",
       "    </tr>\n",
       "    <tr>\n",
       "      <th>8638</th>\n",
       "      <td>2015-04-30 23:50:00.000001</td>\n",
       "    </tr>\n",
       "    <tr>\n",
       "      <th>8639</th>\n",
       "      <td>2015-04-30 23:55:00.000001</td>\n",
       "    </tr>\n",
       "    <tr>\n",
       "      <th>8640</th>\n",
       "      <td>2015-05-01 00:00:00.000001</td>\n",
       "    </tr>\n",
       "  </tbody>\n",
       "</table>\n",
       "<p>8641 rows × 1 columns</p>\n",
       "</div>"
      ],
      "text/plain": [
       "                       datetime\n",
       "0    2015-04-01 00:00:00.000000\n",
       "1    2015-04-01 00:05:00.000001\n",
       "2    2015-04-01 00:10:00.000001\n",
       "3    2015-04-01 00:15:00.000001\n",
       "4    2015-04-01 00:20:00.000001\n",
       "...                         ...\n",
       "8636 2015-04-30 23:40:00.000001\n",
       "8637 2015-04-30 23:45:00.000001\n",
       "8638 2015-04-30 23:50:00.000001\n",
       "8639 2015-04-30 23:55:00.000001\n",
       "8640 2015-05-01 00:00:00.000001\n",
       "\n",
       "[8641 rows x 1 columns]"
      ]
     },
     "execution_count": 4,
     "metadata": {},
     "output_type": "execute_result"
    }
   ],
   "source": [
    "# 生成时间序列，5分钟为一个时间切片\n",
    "helper = pd.date_range(start='2015/4/1 0:00:00', end='2015/5/1 0:00:00', freq='5min', name='datetime')\n",
    "helper = pd.DataFrame(helper, columns=['datetime'])\n",
    "\n",
    "# 对 helper 的 'datetime' 列做调整，除第一个时间点之外的所有时间向后调整1微秒\n",
    "helper['datetime'][1:] = helper['datetime'][1:] + pd.Timedelta(microseconds=1)\n",
    "# 查看 helper 中每列的数据类型\n",
    "print(helper.dtypes)\n",
    "helper"
   ]
  },
  {
   "cell_type": "code",
   "execution_count": 1,
   "id": "e786e2c2-e311-4b13-9073-9045bc596408",
   "metadata": {
    "scrolled": true
   },
   "outputs": [
    {
     "ename": "NameError",
     "evalue": "name 'full_paths' is not defined",
     "output_type": "error",
     "traceback": [
      "\u001b[1;31m---------------------------------------------------------------------------\u001b[0m",
      "\u001b[1;31mNameError\u001b[0m                                 Traceback (most recent call last)",
      "Cell \u001b[1;32mIn[1], line 3\u001b[0m\n\u001b[0;32m      1\u001b[0m dir_xls \u001b[38;5;241m=\u001b[39m []\n\u001b[1;32m----> 3\u001b[0m \u001b[38;5;28;01mfor\u001b[39;00m folder_path \u001b[38;5;129;01min\u001b[39;00m \u001b[43mfull_paths\u001b[49m:\n\u001b[0;32m      4\u001b[0m     \u001b[38;5;66;03m# 获取文件和文件名\u001b[39;00m\n\u001b[0;32m      5\u001b[0m     dir_xls \u001b[38;5;241m=\u001b[39m get_file(folder_path)\n\u001b[0;32m      8\u001b[0m \u001b[38;5;66;03m# 按文件名进行自然排序（1, 2, 10 的顺序）\u001b[39;00m\n",
      "\u001b[1;31mNameError\u001b[0m: name 'full_paths' is not defined"
     ]
    }
   ],
   "source": [
    "dir_xls = []\n",
    "\n",
    "for folder_path in full_paths:\n",
    "    # 获取文件和文件名\n",
    "    dir_xls = get_file(folder_path)\n",
    "\n",
    "\n",
    "# 按文件名进行自然排序（1, 2, 10 的顺序）\n",
    "dir_xls = sorted(dir_xls, key=lambda x: int(os.path.basename(x).split('.')[0]))\n",
    "print(len(dir_xls))\n",
    "print(dir_xls)"
   ]
  },
  {
   "cell_type": "code",
   "execution_count": 42,
   "id": "ece22bbb-10bb-44bc-926a-eb6f939dea85",
   "metadata": {},
   "outputs": [],
   "source": [
    "from py2neo import Node, Relationship, Graph, NodeMatcher, RelationshipMatcher, Subgraph\n",
    "import os\n",
    "import json\n",
    "\n",
    "g = Graph('bolt://localhost:7687',auth=('neo4j','your password'), name = 'trkg')\n",
    "node_matcher = NodeMatcher(g)\n",
    "relation_matcher = RelationshipMatcher(g)"
   ]
  },
  {
   "cell_type": "code",
   "execution_count": 8,
   "id": "96fbd4d6-2b6c-4c3c-9947-6cfa2ed75d56",
   "metadata": {},
   "outputs": [],
   "source": [
    "# 缓存 honeycomb 节点以加快查询速度\n",
    "honeycomb_nodes = {honeycomb['name']: honeycomb for honeycomb in node_matcher.match(\"honeycomb\")}"
   ]
  },
  {
   "cell_type": "code",
   "execution_count": 49,
   "id": "f5d15af7-1c19-4fb3-ba56-3a379e3e998d",
   "metadata": {},
   "outputs": [
    {
     "data": {
      "application/vnd.jupyter.widget-view+json": {
       "model_id": "f4981990ee304c719ae3688fccc8213f",
       "version_major": 2,
       "version_minor": 0
      },
      "text/plain": [
       "Processing time slices:   0%|          | 0/14083200 [00:00<?, ?it/s]"
      ]
     },
     "metadata": {},
     "output_type": "display_data"
    },
    {
     "name": "stdout",
     "output_type": "stream",
     "text": [
      "GEOSException encountered in file F:\\paper2\\出租车原始数据\\part2\\13371.csv: IllegalArgumentException: Points of LinearRing do not form a closed linestring, skipping this iteration.\n",
      "GEOSException encountered in file F:\\paper2\\出租车原始数据\\part2\\13811.csv: IllegalArgumentException: Points of LinearRing do not form a closed linestring, skipping this iteration.\n"
     ]
    }
   ],
   "source": [
    "from shapely.wkt import loads as wkt_loads  # 用于解析WKT格式的几何数据\n",
    "from shapely.geometry import Point  # 用于创建点对象\n",
    "from datetime import datetime  # 用于时间运算\n",
    "from tqdm.notebook import tqdm\n",
    "from shapely.errors import GEOSException  # 导入 GEOSException\n",
    "import pandas as pd\n",
    "import geopandas as gpd\n",
    "from py2neo import Graph, Node, Relationship, Subgraph  # 导入 py2neo 中的图、节点和关系对象\n",
    "\n",
    "BATCH_SIZE = 200000  # 批次大小\n",
    "trajectory_point_ls = []  # 用于存储待提交的轨迹点\n",
    "relationship_ls = []  # 用于存储待提交的关系\n",
    "# 计算总的时间切片数\n",
    "total_slices = len(dir_xls) * (len(helper) - 1)\n",
    "\n",
    "# 创建一个覆盖所有时间切片的进度条\n",
    "with tqdm(total=total_slices, desc=\"Processing time slices\") as time_slice_pbar:\n",
    "\n",
    "    for file_path in dir_xls:\n",
    "        \n",
    "        # if file_path == 'F:\\\\paper2\\\\出租车原始数据\\\\part1\\\\2.csv':\n",
    "        #     break\n",
    "            \n",
    "        df_each = pd.read_csv(file_path, usecols=[0, 1, 2, 3, 4],\n",
    "                              names=['vehicle', 'passenger_', 'datetime', 'longitude', 'latitude'], header=None)\n",
    "\n",
    "        # 将 'longitude' 和 'latitude' 列转换为几何数据，并创建 GeoDataFrame\n",
    "        trajectory = gpd.GeoDataFrame(df_each,\n",
    "                                      geometry=gpd.points_from_xy(df_each['longitude'], df_each['latitude']),\n",
    "                                      crs='EPSG:4326')\n",
    "        trajectory = trajectory.to_crs(gdf_honeycomb.crs)\n",
    "\n",
    "        trajectory['pre_code_helper'] = range(len(trajectory))\n",
    "        minx, miny, maxx, maxy = trajectory.total_bounds\n",
    "\n",
    "        try:\n",
    "            # 根据trajectory的空间范围裁剪road_gdf\n",
    "            road_gdf_clipped = road_gdf.cx[minx:maxx, miny:maxy][['geometry']]  # 只保留 geometry 列以减少数据量\n",
    "        except GEOSException as e:\n",
    "            print(f\"GEOSException encountered in file {file_path}: {e}, skipping this iteration.\")\n",
    "            continue\n",
    "\n",
    "        # 批量空间连接操作，找到最近的道路\n",
    "        trajectory_matched = gpd.sjoin_nearest(trajectory, road_gdf_clipped, how='inner', max_distance=30, distance_col=\"distance\")\n",
    "        # 只保留 `trajectory` 的字段\n",
    "        trajectory_matched = trajectory_matched[trajectory.columns.tolist()]\n",
    "        # 使用批量化的空间连接操作将 `gdf_honeycomb` 的 `FID` 列加入到 `trajectory_matched` 中\n",
    "        trajectory_matched = gpd.sjoin(trajectory_matched, gdf_honeycomb[['geometry']], how='inner', predicate='within')\n",
    "        \n",
    "        if not trajectory_matched.empty:\n",
    "            trajectory_matched = trajectory_matched.drop_duplicates(subset=['pre_code_helper'], keep='first')\n",
    "            trajectory_matched['datetime_helper'] = pd.to_datetime(trajectory_matched['datetime'], format=\"%Y-%m-%d %H:%M:%S\")\n",
    "            trajectory_matched = trajectory_matched.set_index('datetime_helper').sort_index()\n",
    "            trajectory_matched['pre_code'] = range(len(trajectory_matched))\n",
    "            # print(f\"trajectory_matched\\n {trajectory_matched}\")\n",
    "\n",
    "            vehicle = trajectory_matched['vehicle'].iat[0]\n",
    "            start, end = 0, 1\n",
    "            batch_num = 1\n",
    "\n",
    "            for k in range(len(helper) - 1):\n",
    "                \n",
    "                # if k != 1:\n",
    "                #     continue\n",
    "                    \n",
    "                start_date = helper.loc[start, 'datetime']\n",
    "                end_date = helper.loc[end, 'datetime']\n",
    "                trajectory_matched_slice = trajectory_matched.loc[start_date:end_date]\n",
    "\n",
    "                if not trajectory_matched_slice.empty:\n",
    "                    batch = f'batch_{batch_num}'\n",
    "\n",
    "                    temp_trajectory_point_ls = []\n",
    "                    temp_relationship_ls = []\n",
    "\n",
    "                    for i in range(len(trajectory_matched_slice)):\n",
    "                        point = trajectory_matched_slice.iloc[i]\n",
    "                        trajectory_node = Node('trajectory_point',\n",
    "                                               name=int(point['pre_code']),\n",
    "                                               passenger=str(point['passenger_']),\n",
    "                                               datetime=str(point['datetime']),\n",
    "                                               geometry=str(point['geometry']),\n",
    "                                               vehicle=int(vehicle),\n",
    "                                               batch=batch)\n",
    "                        temp_trajectory_point_ls.append(trajectory_node)\n",
    "\n",
    "                        # 获取匹配的多边形的 FID，直接从提前计算好的列中获取\n",
    "                        honeycomb_idx = point['index_right']\n",
    "                        # print(f\"honeycomb_idx\\n {honeycomb_idx}\")\n",
    "                        honeycomb = honeycomb_nodes.get(honeycomb_idx)  # 从缓存中查找 `honeycomb` 节点\n",
    "                        # 构建 'located_in' 关系\n",
    "                        located_in_rel = Relationship(trajectory_node, \"located_in\", honeycomb)\n",
    "                        temp_relationship_ls.append(located_in_rel)\n",
    "                        \n",
    "                        # 如果当前点不是第一个点，创建与前一个点的 \"next\" 关系\n",
    "                        if i > 0:\n",
    "                            prev_node = temp_trajectory_point_ls[i - 1]\n",
    "                            next_relationship = Relationship(prev_node, \"next\", trajectory_node)\n",
    "                            temp_relationship_ls.append(next_relationship)\n",
    "\n",
    "                    # 批量添加节点和关系\n",
    "                    trajectory_point_ls.extend(temp_trajectory_point_ls)\n",
    "                    relationship_ls.extend(temp_relationship_ls)\n",
    "\n",
    "                    # 检查是否达到批次大小并提交，仅依据 trajectory_point_ls 的长度\n",
    "                    if len(trajectory_point_ls) >= BATCH_SIZE:\n",
    "                        # 批量提交所有节点和关系到数据库\n",
    "                        subgraph = Subgraph(nodes=trajectory_point_ls, relationships=relationship_ls)\n",
    "                        tx = g.begin()\n",
    "                        tx.create(subgraph)\n",
    "                        g.commit(tx)\n",
    "\n",
    "                        # 清空临时列表\n",
    "                        trajectory_point_ls.clear()\n",
    "                        relationship_ls.clear()\n",
    "\n",
    "                start += 1\n",
    "                end += 1\n",
    "                batch_num += 1\n",
    "\n",
    "        # 更新进度条：每处理完一个文件更新一次\n",
    "        time_slice_pbar.update(len(helper) - 1)\n",
    "\n",
    "# 提交剩余的节点和关系（外层提交）\n",
    "if trajectory_point_ls:\n",
    "    subgraph = Subgraph(nodes=trajectory_point_ls, relationships=relationship_ls)\n",
    "    tx = g.begin()\n",
    "    tx.create(subgraph)\n",
    "    g.commit(tx)\n",
    "\n",
    "    trajectory_point_ls.clear()\n",
    "    relationship_ls.clear()"
   ]
  },
  {
   "cell_type": "code",
   "execution_count": 11,
   "id": "8a37330a-f11b-41f3-acae-b069b11a0644",
   "metadata": {},
   "outputs": [
    {
     "data": {
      "application/vnd.jupyter.widget-view+json": {
       "model_id": "d523850087af4a9a86e7d33ef7a24177",
       "version_major": 2,
       "version_minor": 0
      },
      "text/plain": [
       "Processing time slices:   0%|          | 0/119473920 [00:00<?, ?it/s]"
      ]
     },
     "metadata": {},
     "output_type": "display_data"
    },
    {
     "name": "stdout",
     "output_type": "stream",
     "text": [
      "GEOSException encountered in file F:\\paper2\\出租车原始数据\\part1\\1349.csv: IllegalArgumentException: Points of LinearRing do not form a closed linestring, skipping this iteration.\n",
      "GEOSException encountered in file F:\\paper2\\出租车原始数据\\part1\\1435.csv: IllegalArgumentException: Points of LinearRing do not form a closed linestring, skipping this iteration.\n",
      "GEOSException encountered in file F:\\paper2\\出租车原始数据\\part1\\2407.csv: IllegalArgumentException: Points of LinearRing do not form a closed linestring, skipping this iteration.\n",
      "GEOSException encountered in file F:\\paper2\\出租车原始数据\\part1\\3229.csv: IllegalArgumentException: Points of LinearRing do not form a closed linestring, skipping this iteration.\n",
      "GEOSException encountered in file F:\\paper2\\出租车原始数据\\part1\\4370.csv: IllegalArgumentException: Points of LinearRing do not form a closed linestring, skipping this iteration.\n",
      "GEOSException encountered in file F:\\paper2\\出租车原始数据\\part1\\7402.csv: IllegalArgumentException: Points of LinearRing do not form a closed linestring, skipping this iteration.\n",
      "GEOSException encountered in file F:\\paper2\\出租车原始数据\\part1\\8097.csv: IllegalArgumentException: Points of LinearRing do not form a closed linestring, skipping this iteration.\n"
     ]
    },
    {
     "ename": "ConnectionBroken",
     "evalue": "Failed to read message",
     "output_type": "error",
     "traceback": [
      "\u001b[1;31m---------------------------------------------------------------------------\u001b[0m",
      "\u001b[1;31mConnectionResetError\u001b[0m                      Traceback (most recent call last)",
      "File \u001b[1;32mD:\\anaconda\\envs\\TRKG\\lib\\site-packages\\py2neo\\wiring.py:117\u001b[0m, in \u001b[0;36mWire.read\u001b[1;34m(self, n)\u001b[0m\n\u001b[0;32m    116\u001b[0m \u001b[38;5;28;01mtry\u001b[39;00m:\n\u001b[1;32m--> 117\u001b[0m     received \u001b[38;5;241m=\u001b[39m \u001b[38;5;28;43mself\u001b[39;49m\u001b[38;5;241;43m.\u001b[39;49m\u001b[43m__socket\u001b[49m\u001b[38;5;241;43m.\u001b[39;49m\u001b[43mrecv\u001b[49m\u001b[43m(\u001b[49m\u001b[43mrequested\u001b[49m\u001b[43m)\u001b[49m\n\u001b[0;32m    118\u001b[0m \u001b[38;5;28;01mexcept\u001b[39;00m (\u001b[38;5;167;01mIOError\u001b[39;00m, \u001b[38;5;167;01mOSError\u001b[39;00m):\n",
      "\u001b[1;31mConnectionResetError\u001b[0m: [WinError 10054] 远程主机强迫关闭了一个现有的连接。",
      "\nDuring handling of the above exception, another exception occurred:\n",
      "\u001b[1;31mBrokenWireError\u001b[0m                           Traceback (most recent call last)",
      "File \u001b[1;32mD:\\anaconda\\envs\\TRKG\\lib\\site-packages\\py2neo\\client\\bolt.py:156\u001b[0m, in \u001b[0;36mBoltMessageReader.read_message\u001b[1;34m(self)\u001b[0m\n\u001b[0;32m    155\u001b[0m \u001b[38;5;28;01mtry\u001b[39;00m:\n\u001b[1;32m--> 156\u001b[0m     hi, lo \u001b[38;5;241m=\u001b[39m \u001b[38;5;28;43mself\u001b[39;49m\u001b[38;5;241;43m.\u001b[39;49m\u001b[43mwire\u001b[49m\u001b[38;5;241;43m.\u001b[39;49m\u001b[43mread\u001b[49m\u001b[43m(\u001b[49m\u001b[38;5;241;43m2\u001b[39;49m\u001b[43m)\u001b[49m\n\u001b[0;32m    157\u001b[0m \u001b[38;5;28;01mexcept\u001b[39;00m WireError \u001b[38;5;28;01mas\u001b[39;00m error:\n",
      "File \u001b[1;32mD:\\anaconda\\envs\\TRKG\\lib\\site-packages\\py2neo\\wiring.py:119\u001b[0m, in \u001b[0;36mWire.read\u001b[1;34m(self, n)\u001b[0m\n\u001b[0;32m    118\u001b[0m \u001b[38;5;28;01mexcept\u001b[39;00m (\u001b[38;5;167;01mIOError\u001b[39;00m, \u001b[38;5;167;01mOSError\u001b[39;00m):\n\u001b[1;32m--> 119\u001b[0m     \u001b[38;5;28;43mself\u001b[39;49m\u001b[38;5;241;43m.\u001b[39;49m\u001b[43m__mark_broken\u001b[49m\u001b[43m(\u001b[49m\u001b[38;5;124;43m\"\u001b[39;49m\u001b[38;5;124;43mWire broken\u001b[39;49m\u001b[38;5;124;43m\"\u001b[39;49m\u001b[43m)\u001b[49m\n\u001b[0;32m    120\u001b[0m \u001b[38;5;28;01melse\u001b[39;00m:\n",
      "File \u001b[1;32mD:\\anaconda\\envs\\TRKG\\lib\\site-packages\\py2neo\\wiring.py:220\u001b[0m, in \u001b[0;36mWire.__mark_broken\u001b[1;34m(self, message)\u001b[0m\n\u001b[0;32m    219\u001b[0m \u001b[38;5;28mself\u001b[39m\u001b[38;5;241m.\u001b[39m__broken \u001b[38;5;241m=\u001b[39m \u001b[38;5;28;01mTrue\u001b[39;00m\n\u001b[1;32m--> 220\u001b[0m \u001b[38;5;28;01mraise\u001b[39;00m BrokenWireError(message, idle_time\u001b[38;5;241m=\u001b[39midle_time,\n\u001b[0;32m    221\u001b[0m                       bytes_sent\u001b[38;5;241m=\u001b[39m\u001b[38;5;28mself\u001b[39m\u001b[38;5;241m.\u001b[39m__bytes_sent,\n\u001b[0;32m    222\u001b[0m                       bytes_received\u001b[38;5;241m=\u001b[39m\u001b[38;5;28mself\u001b[39m\u001b[38;5;241m.\u001b[39m__bytes_received)\n",
      "\u001b[1;31mBrokenWireError\u001b[0m: Wire broken after 1.1s idle (316332403 bytes sent, 40569869 bytes received)",
      "\nThe above exception was the direct cause of the following exception:\n",
      "\u001b[1;31mConnectionBroken\u001b[0m                          Traceback (most recent call last)",
      "Cell \u001b[1;32mIn[11], line 152\u001b[0m\n\u001b[0;32m    150\u001b[0m tx \u001b[38;5;241m=\u001b[39m g\u001b[38;5;241m.\u001b[39mbegin()\n\u001b[0;32m    151\u001b[0m tx\u001b[38;5;241m.\u001b[39mcreate(subgraph)\n\u001b[1;32m--> 152\u001b[0m \u001b[43mg\u001b[49m\u001b[38;5;241;43m.\u001b[39;49m\u001b[43mcommit\u001b[49m\u001b[43m(\u001b[49m\u001b[43mtx\u001b[49m\u001b[43m)\u001b[49m\n\u001b[0;32m    154\u001b[0m \u001b[38;5;66;03m# 清空临时列表\u001b[39;00m\n\u001b[0;32m    155\u001b[0m trajectory_point_ls\u001b[38;5;241m.\u001b[39mclear()\n",
      "File \u001b[1;32mD:\\anaconda\\envs\\TRKG\\lib\\site-packages\\py2neo\\database.py:367\u001b[0m, in \u001b[0;36mGraph.commit\u001b[1;34m(self, tx)\u001b[0m\n\u001b[0;32m    365\u001b[0m     \u001b[38;5;28;01mraise\u001b[39;00m \u001b[38;5;167;01mTypeError\u001b[39;00m(\u001b[38;5;124m\"\u001b[39m\u001b[38;5;124mCannot commit closed transaction\u001b[39m\u001b[38;5;124m\"\u001b[39m)\n\u001b[0;32m    366\u001b[0m \u001b[38;5;28;01mtry\u001b[39;00m:\n\u001b[1;32m--> 367\u001b[0m     summary \u001b[38;5;241m=\u001b[39m \u001b[38;5;28;43mself\u001b[39;49m\u001b[38;5;241;43m.\u001b[39;49m\u001b[43mservice\u001b[49m\u001b[38;5;241;43m.\u001b[39;49m\u001b[43mconnector\u001b[49m\u001b[38;5;241;43m.\u001b[39;49m\u001b[43mcommit\u001b[49m\u001b[43m(\u001b[49m\u001b[43mtx\u001b[49m\u001b[38;5;241;43m.\u001b[39;49m\u001b[43mref\u001b[49m\u001b[43m)\u001b[49m\n\u001b[0;32m    368\u001b[0m     tx\u001b[38;5;241m.\u001b[39m_bookmark \u001b[38;5;241m=\u001b[39m summary[\u001b[38;5;124m\"\u001b[39m\u001b[38;5;124mbookmark\u001b[39m\u001b[38;5;124m\"\u001b[39m]\n\u001b[0;32m    369\u001b[0m     tx\u001b[38;5;241m.\u001b[39m_profile \u001b[38;5;241m=\u001b[39m summary[\u001b[38;5;124m\"\u001b[39m\u001b[38;5;124mprofile\u001b[39m\u001b[38;5;124m\"\u001b[39m]\n",
      "File \u001b[1;32mD:\\anaconda\\envs\\TRKG\\lib\\site-packages\\py2neo\\client\\__init__.py:1378\u001b[0m, in \u001b[0;36mConnector.commit\u001b[1;34m(self, tx)\u001b[0m\n\u001b[0;32m   1376\u001b[0m cx \u001b[38;5;241m=\u001b[39m \u001b[38;5;28mself\u001b[39m\u001b[38;5;241m.\u001b[39m_reacquire(tx)\n\u001b[0;32m   1377\u001b[0m \u001b[38;5;28;01mtry\u001b[39;00m:\n\u001b[1;32m-> 1378\u001b[0m     bookmark \u001b[38;5;241m=\u001b[39m \u001b[43mcx\u001b[49m\u001b[38;5;241;43m.\u001b[39;49m\u001b[43mcommit\u001b[49m\u001b[43m(\u001b[49m\u001b[43mtx\u001b[49m\u001b[43m)\u001b[49m\n\u001b[0;32m   1379\u001b[0m \u001b[38;5;28;01mexcept\u001b[39;00m (ConnectionUnavailable, ConnectionBroken):\n\u001b[0;32m   1380\u001b[0m     \u001b[38;5;28mself\u001b[39m\u001b[38;5;241m.\u001b[39mprune(cx\u001b[38;5;241m.\u001b[39mprofile)\n",
      "File \u001b[1;32mD:\\anaconda\\envs\\TRKG\\lib\\site-packages\\py2neo\\client\\bolt.py:912\u001b[0m, in \u001b[0;36mBolt3.commit\u001b[1;34m(self, tx)\u001b[0m\n\u001b[0;32m    910\u001b[0m response \u001b[38;5;241m=\u001b[39m \u001b[38;5;28mself\u001b[39m\u001b[38;5;241m.\u001b[39mappend_message(\u001b[38;5;241m0x12\u001b[39m)\n\u001b[0;32m    911\u001b[0m \u001b[38;5;28;01mtry\u001b[39;00m:\n\u001b[1;32m--> 912\u001b[0m     \u001b[38;5;28;43mself\u001b[39;49m\u001b[38;5;241;43m.\u001b[39;49m\u001b[43m_sync\u001b[49m\u001b[43m(\u001b[49m\u001b[43mresponse\u001b[49m\u001b[43m)\u001b[49m\n\u001b[0;32m    913\u001b[0m \u001b[38;5;28;01mexcept\u001b[39;00m BrokenWireError \u001b[38;5;28;01mas\u001b[39;00m error:\n\u001b[0;32m    914\u001b[0m     tx\u001b[38;5;241m.\u001b[39mmark_broken()\n",
      "File \u001b[1;32mD:\\anaconda\\envs\\TRKG\\lib\\site-packages\\py2neo\\client\\bolt.py:799\u001b[0m, in \u001b[0;36mBolt1._sync\u001b[1;34m(self, *responses)\u001b[0m\n\u001b[0;32m    797\u001b[0m \u001b[38;5;28mself\u001b[39m\u001b[38;5;241m.\u001b[39msend()\n\u001b[0;32m    798\u001b[0m \u001b[38;5;28;01mfor\u001b[39;00m response \u001b[38;5;129;01min\u001b[39;00m responses:\n\u001b[1;32m--> 799\u001b[0m     \u001b[38;5;28;43mself\u001b[39;49m\u001b[38;5;241;43m.\u001b[39;49m\u001b[43m_wait\u001b[49m\u001b[43m(\u001b[49m\u001b[43mresponse\u001b[49m\u001b[43m)\u001b[49m\n",
      "File \u001b[1;32mD:\\anaconda\\envs\\TRKG\\lib\\site-packages\\py2neo\\client\\bolt.py:794\u001b[0m, in \u001b[0;36mBolt1._wait\u001b[1;34m(self, response)\u001b[0m\n\u001b[0;32m    787\u001b[0m \u001b[38;5;250m\u001b[39m\u001b[38;5;124;03m\"\"\" Read all incoming responses up to and including a\u001b[39;00m\n\u001b[0;32m    788\u001b[0m \u001b[38;5;124;03mparticular response.\u001b[39;00m\n\u001b[0;32m    789\u001b[0m \n\u001b[0;32m    790\u001b[0m \u001b[38;5;124;03mThis method calls fetch, but does not raise an exception on\u001b[39;00m\n\u001b[0;32m    791\u001b[0m \u001b[38;5;124;03mFAILURE.\u001b[39;00m\n\u001b[0;32m    792\u001b[0m \u001b[38;5;124;03m\"\"\"\u001b[39;00m\n\u001b[0;32m    793\u001b[0m \u001b[38;5;28;01mwhile\u001b[39;00m \u001b[38;5;129;01mnot\u001b[39;00m response\u001b[38;5;241m.\u001b[39mfull() \u001b[38;5;129;01mand\u001b[39;00m \u001b[38;5;129;01mnot\u001b[39;00m response\u001b[38;5;241m.\u001b[39mdone():\n\u001b[1;32m--> 794\u001b[0m     \u001b[38;5;28;43mself\u001b[39;49m\u001b[38;5;241;43m.\u001b[39;49m\u001b[43m_fetch\u001b[49m\u001b[43m(\u001b[49m\u001b[43m)\u001b[49m\n",
      "File \u001b[1;32mD:\\anaconda\\envs\\TRKG\\lib\\site-packages\\py2neo\\client\\bolt.py:769\u001b[0m, in \u001b[0;36mBolt1._fetch\u001b[1;34m(self)\u001b[0m\n\u001b[0;32m    760\u001b[0m \u001b[38;5;28;01mdef\u001b[39;00m \u001b[38;5;21m_fetch\u001b[39m(\u001b[38;5;28mself\u001b[39m):\n\u001b[0;32m    761\u001b[0m \u001b[38;5;250m    \u001b[39m\u001b[38;5;124;03m\"\"\" Fetch and process the next incoming message.\u001b[39;00m\n\u001b[0;32m    762\u001b[0m \n\u001b[0;32m    763\u001b[0m \u001b[38;5;124;03m    This method does not raise an exception on receipt of a\u001b[39;00m\n\u001b[1;32m   (...)\u001b[0m\n\u001b[0;32m    767\u001b[0m \u001b[38;5;124;03m    failed state into an exception.\u001b[39;00m\n\u001b[0;32m    768\u001b[0m \u001b[38;5;124;03m    \"\"\"\u001b[39;00m\n\u001b[1;32m--> 769\u001b[0m     tag, fields \u001b[38;5;241m=\u001b[39m \u001b[38;5;28;43mself\u001b[39;49m\u001b[38;5;241;43m.\u001b[39;49m\u001b[43mread_message\u001b[49m\u001b[43m(\u001b[49m\u001b[43m)\u001b[49m\n\u001b[0;32m    770\u001b[0m     \u001b[38;5;28;01mif\u001b[39;00m tag \u001b[38;5;241m==\u001b[39m \u001b[38;5;241m0x70\u001b[39m:\n\u001b[0;32m    771\u001b[0m         \u001b[38;5;28mself\u001b[39m\u001b[38;5;241m.\u001b[39m_responses\u001b[38;5;241m.\u001b[39mpopleft()\u001b[38;5;241m.\u001b[39mset_success(\u001b[38;5;241m*\u001b[39m\u001b[38;5;241m*\u001b[39mfields[\u001b[38;5;241m0\u001b[39m])\n",
      "File \u001b[1;32mD:\\anaconda\\envs\\TRKG\\lib\\site-packages\\py2neo\\client\\bolt.py:696\u001b[0m, in \u001b[0;36mBolt1.read_message\u001b[1;34m(self)\u001b[0m\n\u001b[0;32m    695\u001b[0m \u001b[38;5;28;01mdef\u001b[39;00m \u001b[38;5;21mread_message\u001b[39m(\u001b[38;5;28mself\u001b[39m):\n\u001b[1;32m--> 696\u001b[0m     tag, fields \u001b[38;5;241m=\u001b[39m \u001b[38;5;28;43mself\u001b[39;49m\u001b[38;5;241;43m.\u001b[39;49m\u001b[43m_reader\u001b[49m\u001b[38;5;241;43m.\u001b[39;49m\u001b[43mread_message\u001b[49m\u001b[43m(\u001b[49m\u001b[43m)\u001b[49m\n\u001b[0;32m    697\u001b[0m     \u001b[38;5;28;01mif\u001b[39;00m tag \u001b[38;5;241m==\u001b[39m \u001b[38;5;241m0x71\u001b[39m:\n\u001b[0;32m    698\u001b[0m         \u001b[38;5;66;03m# If a RECORD is received, check for more records\u001b[39;00m\n\u001b[0;32m    699\u001b[0m         \u001b[38;5;66;03m# in the buffer immediately following, and log and\u001b[39;00m\n\u001b[0;32m    700\u001b[0m         \u001b[38;5;66;03m# add them all at the same time\u001b[39;00m\n\u001b[0;32m    701\u001b[0m         \u001b[38;5;28;01mwhile\u001b[39;00m \u001b[38;5;28mself\u001b[39m\u001b[38;5;241m.\u001b[39m_reader\u001b[38;5;241m.\u001b[39mpeek_message() \u001b[38;5;241m==\u001b[39m \u001b[38;5;241m0x71\u001b[39m:\n",
      "File \u001b[1;32mD:\\anaconda\\envs\\TRKG\\lib\\site-packages\\py2neo\\client\\bolt.py:158\u001b[0m, in \u001b[0;36mBoltMessageReader.read_message\u001b[1;34m(self)\u001b[0m\n\u001b[0;32m    156\u001b[0m     hi, lo \u001b[38;5;241m=\u001b[39m \u001b[38;5;28mself\u001b[39m\u001b[38;5;241m.\u001b[39mwire\u001b[38;5;241m.\u001b[39mread(\u001b[38;5;241m2\u001b[39m)\n\u001b[0;32m    157\u001b[0m \u001b[38;5;28;01mexcept\u001b[39;00m WireError \u001b[38;5;28;01mas\u001b[39;00m error:\n\u001b[1;32m--> 158\u001b[0m     \u001b[43mraise_from\u001b[49m\u001b[43m(\u001b[49m\u001b[43mConnectionBroken\u001b[49m\u001b[43m(\u001b[49m\u001b[38;5;124;43m\"\u001b[39;49m\u001b[38;5;124;43mFailed to read message\u001b[39;49m\u001b[38;5;124;43m\"\u001b[39;49m\u001b[43m)\u001b[49m\u001b[43m,\u001b[49m\u001b[43m \u001b[49m\u001b[43merror\u001b[49m\u001b[43m)\u001b[49m\n\u001b[0;32m    159\u001b[0m \u001b[38;5;28;01melse\u001b[39;00m:\n\u001b[0;32m    160\u001b[0m     \u001b[38;5;28;01mif\u001b[39;00m hi \u001b[38;5;241m==\u001b[39m lo \u001b[38;5;241m==\u001b[39m \u001b[38;5;241m0\u001b[39m:\n\u001b[0;32m    161\u001b[0m         \u001b[38;5;66;03m# We hit a zero chunk...\u001b[39;00m\n",
      "File \u001b[1;32m<string>:3\u001b[0m, in \u001b[0;36mraise_from\u001b[1;34m(value, from_value)\u001b[0m\n",
      "\u001b[1;31mConnectionBroken\u001b[0m: Failed to read message"
     ]
    }
   ],
   "source": [
    "from concurrent.futures import ThreadPoolExecutor\n",
    "from shapely.wkt import loads as wkt_loads  # 用于解析WKT格式的几何数据\n",
    "from shapely.geometry import Point  # 用于创建点对象\n",
    "from datetime import datetime  # 用于时间运算\n",
    "from tqdm.notebook import tqdm\n",
    "import threading  # 为线程锁引入 threading 模块\n",
    "from shapely.errors import GEOSException  # 导入 GEOSException\n",
    "\n",
    "\n",
    "trajectory_point_ls = []  # 用于存储待提交的轨迹点\n",
    "relationship_ls = []  # 用于存储待提交的关系\n",
    "lock = threading.Lock()  # 创建线程锁\n",
    "\n",
    "# 计算总的时间切片数\n",
    "total_slices = len(dir_xls) * (len(helper) - 1)\n",
    "\n",
    "# 创建一个覆盖所有时间切片的进度条\n",
    "with tqdm(total=total_slices, desc=\"Processing time slices\") as time_slice_pbar:\n",
    "\n",
    "    def process_slice(trajectory_matched, helper, start, end, batch_num):\n",
    "        temp_trajectory_point_ls = []\n",
    "        temp_relationship_ls = []\n",
    "\n",
    "        start_date = helper.loc[start, 'datetime']\n",
    "        end_date = helper.loc[end, 'datetime']\n",
    "        trajectory_matched_slice = trajectory_matched.loc[start_date:end_date]\n",
    "\n",
    "        if not trajectory_matched_slice.empty:\n",
    "            \n",
    "            # print('trajectory_matched_slice\\n', trajectory_matched_slice[['pre_code', 'vehicle']])\n",
    "            \n",
    "            batch = f'batch_{batch_num}'\n",
    "\n",
    "            for i in range(len(trajectory_matched_slice)):\n",
    "                point = trajectory_matched_slice.iloc[i]\n",
    "                trajectory_node = Node('trajectory_point',\n",
    "                                       name=int(point['pre_code']),\n",
    "                                       passenger=str(point['passenger_']),\n",
    "                                       datetime=str(point['datetime']),\n",
    "                                       longitude=float(point['longitude']),\n",
    "                                       latitude=float(point['latitude']),\n",
    "                                       geometry=str(point['geometry']),\n",
    "                                       vehicle=int(vehicle),\n",
    "                                       batch=batch)\n",
    "                temp_trajectory_point_ls.append(trajectory_node)\n",
    "\n",
    "                # 如果不是第一个点，创建与前一个点的关系\n",
    "                if i > 0:\n",
    "                    prev_node = temp_trajectory_point_ls[i - 1]\n",
    "\n",
    "                    # # 使用Shapely解析WKT格式的几何数据\n",
    "                    # prev_geometry = wkt_loads(prev_node['geometry'])\n",
    "                    # curr_geometry = wkt_loads(trajectory_node['geometry'])\n",
    "\n",
    "                    # # 计算两个几何点之间的距离\n",
    "                    # distance = round(prev_geometry.distance(curr_geometry), 2)\n",
    "\n",
    "                    # 提取时间，计算时间差（秒）\n",
    "                    # prev_time = datetime.strptime(prev_node['datetime'], '%Y-%m-%d %H:%M:%S')\n",
    "                    # curr_time = datetime.strptime(trajectory_node['datetime'], '%Y-%m-%d %H:%M:%S')\n",
    "                    # time_interval = (curr_time - prev_time).total_seconds()  # 保留时间差为秒\n",
    "\n",
    "                    # # 计算速度 (单位：米/秒)\n",
    "                    # if time_interval > 0:  # 避免除以零的错误\n",
    "                    #     velocity = round(distance / time_interval, 2)\n",
    "                    # else:\n",
    "                    #     velocity = 0.00\n",
    "\n",
    "                    # 创建关系，并附加距离、时间差（秒）和速度（米/秒）属性\n",
    "                    relationship = Relationship(prev_node, \"next\", trajectory_node)#distance=distance, time_interval=time_interval, velocity=velocity\n",
    "                    temp_relationship_ls.append(relationship)\n",
    "\n",
    "            # 使用锁来确保多线程环境下对共享资源的安全访问\n",
    "            with lock:\n",
    "                trajectory_point_ls.extend(temp_trajectory_point_ls)\n",
    "                relationship_ls.extend(temp_relationship_ls)\n",
    "\n",
    "    for file_path in dir_xls:\n",
    "\n",
    "        df_each = pd.read_csv(file_path, usecols=[0, 1, 2, 3, 4],\n",
    "                              names=['vehicle', 'passenger_', 'datetime', 'longitude', 'latitude'], header=None)\n",
    "\n",
    "        # 将 'longitude' 和 'latitude' 列转换为几何数据，并创建 GeoDataFrame\n",
    "        trajectory = gpd.GeoDataFrame(df_each,\n",
    "                                      geometry=gpd.points_from_xy(df_each['longitude'], df_each['latitude']),  # 生成几何点\n",
    "                                      crs='EPSG:4326')  # 设置坐标系，使用WGS84坐标系\n",
    "        trajectory = trajectory.to_crs(4549)\n",
    "\n",
    "        # 添加 'pre_code_helper' 列\n",
    "        trajectory['pre_code_helper'] = range(len(trajectory))\n",
    "\n",
    "        # 计算trajectory的空间范围\n",
    "        minx, miny, maxx, maxy = trajectory.total_bounds\n",
    "    \n",
    "        try:\n",
    "            # 根据trajectory的空间范围裁剪road_gdf\n",
    "            road_gdf_clipped = road_gdf.cx[minx:maxx, miny:maxy]\n",
    "\n",
    "        except GEOSException as e:\n",
    "            # 捕获 GEOSException 并跳过该次循环，打印出导致问题的文件路径\n",
    "            print(f\"GEOSException encountered in file {file_path}: {e}, skipping this iteration.\")\n",
    "            continue  # 跳过该次循环\n",
    "    \n",
    "        # 使用 spatial join 将轨迹点与 road_gdf_clipped 匹配\n",
    "        trajectory_matched = gpd.sjoin_nearest(trajectory, road_gdf_clipped, how='inner', max_distance=30, distance_col=\"distance\")\n",
    "\n",
    "        if not trajectory_matched.empty:\n",
    "\n",
    "            # 数据清洗：去除 'pre_code_helper' 列中重复的行，保留第一次出现的记录\n",
    "            trajectory_matched = trajectory_matched.drop_duplicates(subset=['pre_code_helper'], keep='first')\n",
    "\n",
    "            # 轨迹预处理：添加'datetime_helper'列，并将'datetime'转换为datetime类型\n",
    "            trajectory_matched['datetime_helper'] = pd.to_datetime(trajectory_matched['datetime'], format=\"%Y-%m-%d %H:%M:%S\")\n",
    "\n",
    "            # 创建索引\n",
    "            trajectory_matched = trajectory_matched.set_index('datetime_helper').sort_index()\n",
    "\n",
    "            # 添加 'pre_code' 列\n",
    "            trajectory_matched['pre_code'] = range(len(trajectory_matched))\n",
    "\n",
    "            # 提取第一个 'vehicle' 的值\n",
    "            vehicle = trajectory_matched['vehicle'].iat[0]  # 使用 .iat 进行更快速的数据访问\n",
    "\n",
    "            start, end = 0, 1\n",
    "            batch_num = 1\n",
    "\n",
    "            # 使用 ThreadPoolExecutor 来并行处理时间切片\n",
    "            with ThreadPoolExecutor(max_workers=120) as executor:  # 修改 max_workers 为 24\n",
    "                futures = []\n",
    "                for k in range(len(helper) - 1):\n",
    "                    \n",
    "                    # if batch_num == 2:\n",
    "                    #     break\n",
    "\n",
    "                    futures.append(executor.submit(process_slice, trajectory_matched, helper, start, end, batch_num))\n",
    "\n",
    "                    start += 1\n",
    "                    end += 1\n",
    "                    batch_num += 1\n",
    "\n",
    "                    # 每处理完一个时间切片，更新外部进度条\n",
    "                    time_slice_pbar.update(1)\n",
    "\n",
    "                # 等待所有并行任务完成\n",
    "                for future in futures:\n",
    "                    future.result()\n",
    "\n",
    "                # 批量提交所有节点和关系到数据库\n",
    "                subgraph = Subgraph(nodes=trajectory_point_ls, relationships=relationship_ls)\n",
    "                tx = g.begin()\n",
    "                tx.create(subgraph)\n",
    "                g.commit(tx)\n",
    "\n",
    "                # 清空临时列表\n",
    "                trajectory_point_ls.clear()\n",
    "                relationship_ls.clear()\n",
    "                \n"
   ]
  },
  {
   "cell_type": "code",
   "execution_count": null,
   "id": "ced41f8a-7a9c-4ea5-a9e1-dd37ae0510ce",
   "metadata": {},
   "outputs": [],
   "source": []
  }
 ],
 "metadata": {
  "kernelspec": {
   "display_name": "Python 3 (ipykernel)",
   "language": "python",
   "name": "python3"
  },
  "language_info": {
   "codemirror_mode": {
    "name": "ipython",
    "version": 3
   },
   "file_extension": ".py",
   "mimetype": "text/x-python",
   "name": "python",
   "nbconvert_exporter": "python",
   "pygments_lexer": "ipython3",
   "version": "3.8.19"
  }
 },
 "nbformat": 4,
 "nbformat_minor": 5
}
