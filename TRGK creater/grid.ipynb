{
 "cells": [
  {
   "cell_type": "code",
   "execution_count": 6,
   "id": "4d5c4a0e-537e-4996-a602-2f9862245ff3",
   "metadata": {},
   "outputs": [
    {
     "data": {
      "text/html": [
       "(No data)"
      ],
      "text/plain": [
       "(No data)"
      ]
     },
     "execution_count": 6,
     "metadata": {},
     "output_type": "execute_result"
    }
   ],
   "source": [
    "# 删除honeycomb实体和关系\n",
    "cypher = 'match(p:honeycomb) detach delete p'\n",
    "g.run(cypher)"
   ]
  },
  {
   "cell_type": "code",
   "execution_count": 7,
   "id": "df184dbe-9125-4327-91a2-73c1f49cc421",
   "metadata": {},
   "outputs": [
    {
     "data": {
      "text/html": [
       "(No data)"
      ],
      "text/plain": [
       "(No data)"
      ]
     },
     "execution_count": 7,
     "metadata": {},
     "output_type": "execute_result"
    }
   ],
   "source": [
    "# 删除所有 'adjacency' 关系\n",
    "g.run(\"MATCH ()-[r:adjacency]->() DELETE r\")"
   ]
  },
  {
   "cell_type": "code",
   "execution_count": 12,
   "id": "d5c1e6e8-603b-4c2e-b4a1-45fda2cf4fb3",
   "metadata": {},
   "outputs": [
    {
     "data": {
      "text/html": [
       "<table><tr><th>total_honeycomb_nodes</th></tr><tr><td style=\"text-align:right\">204011</td></tr></table>"
      ],
      "text/plain": [
       " total_honeycomb_nodes \n",
       "-----------------------\n",
       "                204011 "
      ]
     },
     "execution_count": 12,
     "metadata": {},
     "output_type": "execute_result"
    }
   ],
   "source": [
    "cypher = 'MATCH (n:honeycomb) RETURN count(n) AS total_honeycomb_nodes'\n",
    "g.run(cypher)"
   ]
  },
  {
   "cell_type": "code",
   "execution_count": 13,
   "id": "4ce60589-b4a6-4039-9e85-8a06436267be",
   "metadata": {},
   "outputs": [
    {
     "data": {
      "text/html": [
       "<table><tr><th>touch_relation_count</th></tr><tr><td style=\"text-align:right\">608253</td></tr></table>"
      ],
      "text/plain": [
       " touch_relation_count \n",
       "----------------------\n",
       "               608253 "
      ]
     },
     "execution_count": 13,
     "metadata": {},
     "output_type": "execute_result"
    }
   ],
   "source": [
    "cypher = 'MATCH ()-[r:adjacency]->() RETURN count(r) AS touch_relation_count'\n",
    "g.run(cypher)"
   ]
  },
  {
   "cell_type": "code",
   "execution_count": 1,
   "id": "cda00059-1913-4c41-884e-1c3f43670386",
   "metadata": {},
   "outputs": [],
   "source": [
    "global_var = 1000000000"
   ]
  },
  {
   "cell_type": "code",
   "execution_count": 2,
   "id": "b967d5a3-d3b1-4a0b-a93b-de35b5875992",
   "metadata": {},
   "outputs": [
    {
     "name": "stderr",
     "output_type": "stream",
     "text": [
      "PROJ: proj_create_from_database: Cannot find proj.db\n"
     ]
    }
   ],
   "source": [
    "import geopandas as gpd\n",
    "from shapely import geometry\n",
    "import matplotlib.pyplot as plt\n",
    "import pandas as pd\n",
    "\n",
    "\n",
    "honey = r\"F:\\paper2\\result\\dz_honeycomb_125.shp\"\n",
    "honey = gpd.read_file(honey)\n",
    "\n",
    "# fig, ax = plt.subplots(figsize=(12, 8))\n",
    "# ax = honey.geometry.plot(ax=ax)"
   ]
  },
  {
   "cell_type": "code",
   "execution_count": 3,
   "id": "3b1bde36-0a2e-4175-a7a8-1b3779ca4abf",
   "metadata": {},
   "outputs": [],
   "source": [
    "#显示所有列\n",
    "pd.set_option('display.max_columns', None)\n",
    "pd.set_option('max_colwidth',200)"
   ]
  },
  {
   "cell_type": "code",
   "execution_count": 4,
   "id": "aaace3ed-3c8d-48fe-9222-26c3b9dbcd2c",
   "metadata": {},
   "outputs": [
    {
     "name": "stdout",
     "output_type": "stream",
     "text": [
      "PROJCS[\"CGCS2000_3-degree_Gauss-Kruger_CM_120E\",GEOGCS[\"GCS_China_Geodetic_Coordinate_System_2000\",DATUM[\"D_China_2000\",SPHEROID[\"CGCS2000\",6378137,298.257222101]],PRIMEM[\"Greenwich\",0],UNIT[\"Degree\",0.0174532925199433]],PROJECTION[\"Transverse_Mercator\"],PARAMETER[\"latitude_of_origin\",0],PARAMETER[\"central_meridian\",120],PARAMETER[\"scale_factor\",1],PARAMETER[\"false_easting\",500000],PARAMETER[\"false_northing\",0],UNIT[\"Meter\",1],AXIS[\"Easting\",EAST],AXIS[\"Northing\",NORTH]]\n"
     ]
    }
   ],
   "source": [
    "print(honey.crs)"
   ]
  },
  {
   "cell_type": "code",
   "execution_count": 5,
   "id": "eaf60c0c-6d00-442e-acd0-5d53438a953e",
   "metadata": {},
   "outputs": [],
   "source": [
    "from py2neo import Node, Relationship, Graph, NodeMatcher, RelationshipMatcher, Subgraph\n",
    "import os\n",
    "import json"
   ]
  },
  {
   "cell_type": "code",
   "execution_count": 6,
   "id": "9aa1c23c-25fb-4230-88bb-6a26a40fe511",
   "metadata": {},
   "outputs": [],
   "source": [
    "g = Graph('bolt://localhost:7687',auth=('neo4j','your password'), name = 'trkg')"
   ]
  },
  {
   "cell_type": "code",
   "execution_count": 7,
   "id": "da59aed6-6f22-4d2f-b33e-76b772fc0266",
   "metadata": {
    "scrolled": true
   },
   "outputs": [
    {
     "data": {
      "text/html": [
       "<div>\n",
       "<style scoped>\n",
       "    .dataframe tbody tr th:only-of-type {\n",
       "        vertical-align: middle;\n",
       "    }\n",
       "\n",
       "    .dataframe tbody tr th {\n",
       "        vertical-align: top;\n",
       "    }\n",
       "\n",
       "    .dataframe thead th {\n",
       "        text-align: right;\n",
       "    }\n",
       "</style>\n",
       "<table border=\"1\" class=\"dataframe\">\n",
       "  <thead>\n",
       "    <tr style=\"text-align: right;\">\n",
       "      <th></th>\n",
       "      <th>FID</th>\n",
       "      <th>geometry</th>\n",
       "    </tr>\n",
       "  </thead>\n",
       "  <tbody>\n",
       "    <tr>\n",
       "      <th>0</th>\n",
       "      <td>0</td>\n",
       "      <td>POLYGON ((607833.096 3407167.775, 607941.349 3407105.275, 607941.349 3407067.900, 607913.737 3407067.653, 607834.148 3407084.996, 607758.726 3407124.837, 607833.096 3407167.775))</td>\n",
       "    </tr>\n",
       "    <tr>\n",
       "      <th>1</th>\n",
       "      <td>1</td>\n",
       "      <td>POLYGON ((607833.096 3407167.775, 607833.096 3407292.775, 607941.349 3407355.275, 608049.602 3407292.775, 608049.602 3407167.775, 607941.349 3407105.275, 607833.096 3407167.775))</td>\n",
       "    </tr>\n",
       "    <tr>\n",
       "      <th>2</th>\n",
       "      <td>2</td>\n",
       "      <td>POLYGON ((607616.590 3407292.775, 607724.843 3407355.275, 607833.096 3407292.775, 607833.096 3407167.775, 607758.726 3407124.837, 607687.208 3407162.616, 607616.590 3407185.685, 607616.590 3407292...</td>\n",
       "    </tr>\n",
       "    <tr>\n",
       "      <th>3</th>\n",
       "      <td>3</td>\n",
       "      <td>POLYGON ((607508.337 3407355.275, 607616.590 3407292.775, 607616.590 3407185.685, 607604.039 3407189.785, 607528.789 3407214.366, 607454.291 3407221.285, 607449.632 3407221.579, 607451.534 3407251...</td>\n",
       "    </tr>\n",
       "    <tr>\n",
       "      <th>4</th>\n",
       "      <td>4</td>\n",
       "      <td>POLYGON ((607508.337 3407480.275, 607508.337 3407355.275, 607445.190 3407318.817, 607425.381 3407528.169, 607508.337 3407480.275))</td>\n",
       "    </tr>\n",
       "    <tr>\n",
       "      <th>...</th>\n",
       "      <td>...</td>\n",
       "      <td>...</td>\n",
       "    </tr>\n",
       "    <tr>\n",
       "      <th>204006</th>\n",
       "      <td>204006</td>\n",
       "      <td>POLYGON ((621256.490 3527917.775, 621256.490 3528042.775, 621364.743 3528105.275, 621472.996 3528042.775, 621472.996 3527917.775, 621364.743 3527855.275, 621256.490 3527917.775))</td>\n",
       "    </tr>\n",
       "    <tr>\n",
       "      <th>204007</th>\n",
       "      <td>204007</td>\n",
       "      <td>POLYGON ((621039.984 3527917.775, 621039.984 3528042.775, 621148.237 3528105.275, 621256.490 3528042.775, 621256.490 3527917.775, 621148.237 3527855.275, 621039.984 3527917.775))</td>\n",
       "    </tr>\n",
       "    <tr>\n",
       "      <th>204008</th>\n",
       "      <td>204008</td>\n",
       "      <td>POLYGON ((621148.237 3528105.275, 621039.984 3528042.775, 620991.672 3528070.668, 621148.237 3528136.796, 621148.237 3528105.275))</td>\n",
       "    </tr>\n",
       "    <tr>\n",
       "      <th>204009</th>\n",
       "      <td>204009</td>\n",
       "      <td>POLYGON ((619957.452 3527542.775, 619849.199 3527480.275, 619761.974 3527530.634, 619957.452 3527617.478, 619957.452 3527542.775))</td>\n",
       "    </tr>\n",
       "    <tr>\n",
       "      <th>204010</th>\n",
       "      <td>204010</td>\n",
       "      <td>POLYGON ((620282.211 3527730.275, 620173.958 3527667.775, 620129.041 3527693.708, 620282.211 3527761.755, 620282.211 3527730.275))</td>\n",
       "    </tr>\n",
       "  </tbody>\n",
       "</table>\n",
       "<p>204011 rows × 2 columns</p>\n",
       "</div>"
      ],
      "text/plain": [
       "           FID  \\\n",
       "0            0   \n",
       "1            1   \n",
       "2            2   \n",
       "3            3   \n",
       "4            4   \n",
       "...        ...   \n",
       "204006  204006   \n",
       "204007  204007   \n",
       "204008  204008   \n",
       "204009  204009   \n",
       "204010  204010   \n",
       "\n",
       "                                                                                                                                                                                                       geometry  \n",
       "0                            POLYGON ((607833.096 3407167.775, 607941.349 3407105.275, 607941.349 3407067.900, 607913.737 3407067.653, 607834.148 3407084.996, 607758.726 3407124.837, 607833.096 3407167.775))  \n",
       "1                            POLYGON ((607833.096 3407167.775, 607833.096 3407292.775, 607941.349 3407355.275, 608049.602 3407292.775, 608049.602 3407167.775, 607941.349 3407105.275, 607833.096 3407167.775))  \n",
       "2       POLYGON ((607616.590 3407292.775, 607724.843 3407355.275, 607833.096 3407292.775, 607833.096 3407167.775, 607758.726 3407124.837, 607687.208 3407162.616, 607616.590 3407185.685, 607616.590 3407292...  \n",
       "3       POLYGON ((607508.337 3407355.275, 607616.590 3407292.775, 607616.590 3407185.685, 607604.039 3407189.785, 607528.789 3407214.366, 607454.291 3407221.285, 607449.632 3407221.579, 607451.534 3407251...  \n",
       "4                                                                            POLYGON ((607508.337 3407480.275, 607508.337 3407355.275, 607445.190 3407318.817, 607425.381 3407528.169, 607508.337 3407480.275))  \n",
       "...                                                                                                                                                                                                         ...  \n",
       "204006                       POLYGON ((621256.490 3527917.775, 621256.490 3528042.775, 621364.743 3528105.275, 621472.996 3528042.775, 621472.996 3527917.775, 621364.743 3527855.275, 621256.490 3527917.775))  \n",
       "204007                       POLYGON ((621039.984 3527917.775, 621039.984 3528042.775, 621148.237 3528105.275, 621256.490 3528042.775, 621256.490 3527917.775, 621148.237 3527855.275, 621039.984 3527917.775))  \n",
       "204008                                                                       POLYGON ((621148.237 3528105.275, 621039.984 3528042.775, 620991.672 3528070.668, 621148.237 3528136.796, 621148.237 3528105.275))  \n",
       "204009                                                                       POLYGON ((619957.452 3527542.775, 619849.199 3527480.275, 619761.974 3527530.634, 619957.452 3527617.478, 619957.452 3527542.775))  \n",
       "204010                                                                       POLYGON ((620282.211 3527730.275, 620173.958 3527667.775, 620129.041 3527693.708, 620282.211 3527761.755, 620282.211 3527730.275))  \n",
       "\n",
       "[204011 rows x 2 columns]"
      ]
     },
     "execution_count": 7,
     "metadata": {},
     "output_type": "execute_result"
    }
   ],
   "source": [
    "honey"
   ]
  },
  {
   "cell_type": "code",
   "execution_count": 8,
   "id": "48d8d937-a9b7-4a99-a707-4b5936c16347",
   "metadata": {},
   "outputs": [],
   "source": [
    "#创建格网实体\n",
    "honeycomb_ls = []\n",
    "for i in range(len(honey)):\n",
    "    if i==global_var:\n",
    "        break\n",
    "    polygon = honey.iloc[i]\n",
    "    node = Node(\"honeycomb\", name=int(polygon['FID']), geometry=str(polygon['geometry']))\n",
    "    honeycomb_ls.append(node)\n",
    "\n",
    "subgraph = Subgraph(nodes=honeycomb_ls)\n",
    "tx = g.begin() \n",
    "tx.create(subgraph)\n",
    "g.commit(tx)"
   ]
  },
  {
   "cell_type": "code",
   "execution_count": 9,
   "id": "f68f6f06-1b0e-489e-815d-26557262aaff",
   "metadata": {},
   "outputs": [
    {
     "data": {
      "text/html": [
       "<div>\n",
       "<style scoped>\n",
       "    .dataframe tbody tr th:only-of-type {\n",
       "        vertical-align: middle;\n",
       "    }\n",
       "\n",
       "    .dataframe tbody tr th {\n",
       "        vertical-align: top;\n",
       "    }\n",
       "\n",
       "    .dataframe thead th {\n",
       "        text-align: right;\n",
       "    }\n",
       "</style>\n",
       "<table border=\"1\" class=\"dataframe\">\n",
       "  <thead>\n",
       "    <tr style=\"text-align: right;\">\n",
       "      <th></th>\n",
       "      <th>FID</th>\n",
       "      <th>geometry</th>\n",
       "    </tr>\n",
       "  </thead>\n",
       "  <tbody>\n",
       "    <tr>\n",
       "      <th>0</th>\n",
       "      <td>0</td>\n",
       "      <td>POLYGON ((607833.096 3407167.775, 607833.096 3407167.775, 607833.096 3407167.775, 607833.096 3407167.775, 607833.096 3407167.775, 607833.096 3407167.775, 607833.096 3407167.775, 607833.096 3407167...</td>\n",
       "    </tr>\n",
       "    <tr>\n",
       "      <th>1</th>\n",
       "      <td>1</td>\n",
       "      <td>POLYGON ((607833.096 3407167.775, 607833.096 3407167.775, 607833.096 3407167.775, 607833.096 3407167.775, 607833.096 3407167.775, 607833.096 3407167.775, 607833.096 3407167.775, 607833.096 3407167...</td>\n",
       "    </tr>\n",
       "    <tr>\n",
       "      <th>2</th>\n",
       "      <td>2</td>\n",
       "      <td>POLYGON ((607616.590 3407292.775, 607616.590 3407292.775, 607616.590 3407292.775, 607616.590 3407292.775, 607616.590 3407292.775, 607616.590 3407292.775, 607616.590 3407292.775, 607616.590 3407292...</td>\n",
       "    </tr>\n",
       "    <tr>\n",
       "      <th>3</th>\n",
       "      <td>3</td>\n",
       "      <td>POLYGON ((607508.337 3407355.275, 607508.337 3407355.275, 607508.337 3407355.275, 607508.337 3407355.275, 607508.337 3407355.275, 607508.337 3407355.275, 607508.337 3407355.275, 607508.337 3407355...</td>\n",
       "    </tr>\n",
       "    <tr>\n",
       "      <th>4</th>\n",
       "      <td>4</td>\n",
       "      <td>POLYGON ((607508.337 3407480.275, 607508.337 3407480.275, 607508.337 3407480.275, 607508.337 3407480.275, 607508.337 3407480.275, 607508.337 3407480.275, 607508.337 3407480.275, 607508.337 3407480...</td>\n",
       "    </tr>\n",
       "  </tbody>\n",
       "</table>\n",
       "</div>"
      ],
      "text/plain": [
       "   FID  \\\n",
       "0    0   \n",
       "1    1   \n",
       "2    2   \n",
       "3    3   \n",
       "4    4   \n",
       "\n",
       "                                                                                                                                                                                                  geometry  \n",
       "0  POLYGON ((607833.096 3407167.775, 607833.096 3407167.775, 607833.096 3407167.775, 607833.096 3407167.775, 607833.096 3407167.775, 607833.096 3407167.775, 607833.096 3407167.775, 607833.096 3407167...  \n",
       "1  POLYGON ((607833.096 3407167.775, 607833.096 3407167.775, 607833.096 3407167.775, 607833.096 3407167.775, 607833.096 3407167.775, 607833.096 3407167.775, 607833.096 3407167.775, 607833.096 3407167...  \n",
       "2  POLYGON ((607616.590 3407292.775, 607616.590 3407292.775, 607616.590 3407292.775, 607616.590 3407292.775, 607616.590 3407292.775, 607616.590 3407292.775, 607616.590 3407292.775, 607616.590 3407292...  \n",
       "3  POLYGON ((607508.337 3407355.275, 607508.337 3407355.275, 607508.337 3407355.275, 607508.337 3407355.275, 607508.337 3407355.275, 607508.337 3407355.275, 607508.337 3407355.275, 607508.337 3407355...  \n",
       "4  POLYGON ((607508.337 3407480.275, 607508.337 3407480.275, 607508.337 3407480.275, 607508.337 3407480.275, 607508.337 3407480.275, 607508.337 3407480.275, 607508.337 3407480.275, 607508.337 3407480...  "
      ]
     },
     "execution_count": 9,
     "metadata": {},
     "output_type": "execute_result"
    }
   ],
   "source": [
    "honeybuffer = r\"F:/paper2/result/honeybuffer_125.shp\"\n",
    "honeybuffer = gpd.read_file(honeybuffer)\n",
    "honeybuffer.head()"
   ]
  },
  {
   "cell_type": "code",
   "execution_count": 10,
   "id": "5ce09404-7266-489d-b220-7548fb33afaf",
   "metadata": {},
   "outputs": [],
   "source": [
    "node_matcher = NodeMatcher(g)\n",
    "relation_matcher = RelationshipMatcher(g)"
   ]
  },
  {
   "cell_type": "code",
   "execution_count": 11,
   "id": "6154f8cb-f765-4ebb-9e28-92456c97bd71",
   "metadata": {},
   "outputs": [
    {
     "data": {
      "application/vnd.jupyter.widget-view+json": {
       "model_id": "a2c5faba5da441018ac7831d351e5418",
       "version_major": 2,
       "version_minor": 0
      },
      "text/plain": [
       "  0%|          | 0/204011 [00:00<?, ?it/s]"
      ]
     },
     "metadata": {},
     "output_type": "display_data"
    }
   ],
   "source": [
    "from tqdm.notebook import tqdm\n",
    "\n",
    "# 1. 建立R树索引\n",
    "honeycomb_index = honeybuffer.sindex\n",
    "\n",
    "# 2. 逐个处理honeycomb节点\n",
    "for i in tqdm(range(len(honeybuffer)), total=len(honeybuffer)):\n",
    "    if i >= global_var:\n",
    "        break\n",
    "\n",
    "    polygon = honeybuffer.loc[i, 'geometry']\n",
    "\n",
    "    # 通过R树进行简单包含查询\n",
    "    possible_matches_index = list(honeycomb_index.intersection(polygon.bounds))\n",
    "    possible_matches = honey.iloc[possible_matches_index]\n",
    "\n",
    "    # 精确查询\n",
    "    precise_matches_intersects = possible_matches[possible_matches.overlaps(polygon)]\n",
    "\n",
    "    # 排除自身，避免自相交\n",
    "    k = precise_matches_intersects['FID'].tolist()\n",
    "\n",
    "    # 匹配主节点\n",
    "    main_honeycombgdf = node_matcher.match('honeycomb', name=i).first()\n",
    "\n",
    "    # 处理每个匹配到的节点\n",
    "    for j in k:\n",
    "        if j >= global_var:\n",
    "            break\n",
    "\n",
    "        sub_honeycombgdf = node_matcher.match('honeycomb', name=j).first()\n",
    "\n",
    "        # 确保关系方向一致：从 name 较小的节点指向 name 较大的节点\n",
    "        if main_honeycombgdf['name'] < sub_honeycombgdf['name']:\n",
    "            \n",
    "            # 使用Cypher的MERGE语句保证关系的唯一性\n",
    "            query = \"\"\"\n",
    "            MATCH (a:honeycomb {name: $main}), (b:honeycomb {name: $sub})\n",
    "            MERGE (a)-[r:adjacency]-(b)\n",
    "            RETURN r\n",
    "            \"\"\"\n",
    "            g.run(query, main=main_honeycombgdf['name'], sub=sub_honeycombgdf['name'])\n"
   ]
  },
  {
   "cell_type": "code",
   "execution_count": null,
   "id": "e8da83c9-c43c-40fc-b8f1-247f2d773a42",
   "metadata": {},
   "outputs": [],
   "source": [
    "from tqdm.notebook import tqdm\n",
    "\n",
    "# 1. 将R树索引查询和Neo4j操作顺序化处理\n",
    "def process_honeycomb(i):\n",
    "    if i >= global_var:\n",
    "        return []\n",
    "\n",
    "    polygon = honeybuffer.loc[i, 'geometry']\n",
    "\n",
    "    # 通过R树进行简单包含查询\n",
    "    possible_matches_index = list(honeycomb_index.intersection(polygon.bounds))\n",
    "    possible_matches = honey.iloc[possible_matches_index]\n",
    "\n",
    "    # 精确查询\n",
    "    precise_matches_intersects = possible_matches[possible_matches.overlaps(polygon)]\n",
    "\n",
    "    # 排除自身，避免自相交\n",
    "    k = precise_matches_intersects['FID'].tolist()\n",
    "\n",
    "    # 知识图谱拓扑关系添加\n",
    "    main_honeycombgdf = node_matcher.match('honeycomb', name=i).first()\n",
    "\n",
    "    relations = []\n",
    "    for j in k:\n",
    "        if j >= global_var:\n",
    "            continue\n",
    "\n",
    "        sub_honeycombgdf = node_matcher.match('honeycomb', name=j).first()\n",
    "        \n",
    "        # 确保关系方向一致：从 name 较小的节点指向 name 较大的节点\n",
    "        if main_honeycombgdf['name'] < sub_honeycombgdf['name']:\n",
    "            \n",
    "            # 使用Cypher查询检查两个节点之间是否存在\"adjacency\" 关系\n",
    "            query = \"\"\"\n",
    "            MATCH (a:honeycomb {name: $main})-[r:adjacency]-(b:honeycomb {name: $sub})\n",
    "            RETURN count(r) > 0 as relation_exists\n",
    "            \"\"\"\n",
    "            relation_exists = g.run(query, main=main_honeycombgdf['name'], sub=sub_honeycombgdf['name']).evaluate()\n",
    "\n",
    "            if not relation_exists:\n",
    "                \n",
    "                # 如果不存在关系，创建新的关系\n",
    "                relation = Relationship(main_honeycombgdf, \"adjacency\", sub_honeycombgdf)\n",
    "                relations.append(relation)\n",
    "    \n",
    "    return relations\n",
    "\n",
    "relation_ls = []\n",
    "honeycomb_index = honeybuffer.sindex  # 建立R树索引\n",
    "\n",
    "# 2. 顺序处理每个honeycomb，并加上进度条\n",
    "for i in tqdm(range(len(honeybuffer)), total=len(honeybuffer)):\n",
    "    relations = process_honeycomb(i)\n",
    "    relation_ls.extend(relations)\n",
    "\n",
    "# 3. 批量提交所有关系到数据库\n",
    "subgraph = Subgraph(relationships=relation_ls)\n",
    "tx = g.begin()\n",
    "tx.create(subgraph)\n",
    "g.commit(tx)\n",
    "relation_ls.clear()\n"
   ]
  },
  {
   "cell_type": "code",
   "execution_count": null,
   "id": "9398238b-2485-4ef7-8519-8ef86fe999b9",
   "metadata": {},
   "outputs": [],
   "source": []
  }
 ],
 "metadata": {
  "kernelspec": {
   "display_name": "Python 3 (ipykernel)",
   "language": "python",
   "name": "python3"
  },
  "language_info": {
   "codemirror_mode": {
    "name": "ipython",
    "version": 3
   },
   "file_extension": ".py",
   "mimetype": "text/x-python",
   "name": "python",
   "nbconvert_exporter": "python",
   "pygments_lexer": "ipython3",
   "version": "3.8.19"
  }
 },
 "nbformat": 4,
 "nbformat_minor": 5
}
